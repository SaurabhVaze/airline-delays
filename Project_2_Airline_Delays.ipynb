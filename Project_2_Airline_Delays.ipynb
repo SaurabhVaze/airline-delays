{
  "nbformat": 4,
  "nbformat_minor": 0,
  "metadata": {
    "colab": {
      "name": "Project 2 - Airline Delays.ipynb",
      "provenance": [],
      "collapsed_sections": [],
      "authorship_tag": "ABX9TyO3ZIBrgXlcC23LcKYheEcT",
      "include_colab_link": true
    },
    "kernelspec": {
      "name": "python3",
      "display_name": "Python 3"
    },
    "language_info": {
      "name": "python"
    }
  },
  "cells": [
    {
      "cell_type": "markdown",
      "metadata": {
        "id": "view-in-github",
        "colab_type": "text"
      },
      "source": [
        "<a href=\"https://colab.research.google.com/github/SaurabhVaze/airline-delays/blob/main/Project_2_Airline_Delays.ipynb\" target=\"_parent\"><img src=\"https://colab.research.google.com/assets/colab-badge.svg\" alt=\"Open In Colab\"/></a>"
      ]
    },
    {
      "cell_type": "code",
      "execution_count": 1,
      "metadata": {
        "id": "k1araW5xTEGe"
      },
      "outputs": [],
      "source": [
        "import pandas as pd\n",
        "import numpy as np\n",
        "import matplotlib.pyplot as plt\n",
        "import seaborn as sns\n",
        "from sklearn.compose import make_column_selector\n",
        "from sklearn.preprocessing import OneHotEncoder, StandardScaler\n",
        "from sklearn.compose import make_column_transformer\n",
        "from sklearn.impute import SimpleImputer\n",
        "from sklearn.model_selection import train_test_split,GridSearchCV\n",
        "from sklearn.pipeline import make_pipeline\n",
        "from sklearn.decomposition import PCA\n",
        "from sklearn.metrics import mean_absolute_error, mean_squared_error, r2_score,classification_report, ConfusionMatrixDisplay\n",
        "from sklearn.ensemble import BaggingClassifier\n",
        "from sklearn.tree import DecisionTreeClassifier\n",
        "from sklearn.cluster import KMeans\n",
        "from sklearn.pipeline import make_pipeline\n",
        "from sklearn.neighbors import KNeighborsClassifier\n",
        "\n",
        "\n"
      ]
    },
    {
      "cell_type": "markdown",
      "source": [
        "#Set 1 (Project 2 Dataset)"
      ],
      "metadata": {
        "id": "EaTHaZbY9YsE"
      }
    },
    {
      "cell_type": "code",
      "source": [
        "airlines = pd.read_csv('/content/airdf.csv') #import data"
      ],
      "metadata": {
        "id": "zkIu02teTMha"
      },
      "execution_count": 2,
      "outputs": []
    },
    {
      "cell_type": "code",
      "source": [
        "airlines"
      ],
      "metadata": {
        "colab": {
          "base_uri": "https://localhost:8080/",
          "height": 423
        },
        "id": "gOdUmPngTMbu",
        "outputId": "a885d946-4f41-4c06-bad5-fd840dd52d63"
      },
      "execution_count": 3,
      "outputs": [
        {
          "output_type": "execute_result",
          "data": {
            "text/plain": [
              "       Unnamed: 0      id Airline  Flight AirportFrom AirportTo  DayOfWeek  \\\n",
              "0               2       3      AA    2400         LAX       DFW          3   \n",
              "1               3       4      AA    2466         SFO       DFW          3   \n",
              "2              13      14      AA    2408         LAX       DFW          3   \n",
              "3             228     229      AA    2301         ORD       DFW          3   \n",
              "4             230     231      AA     526         SFO       DFW          3   \n",
              "...           ...     ...     ...     ...         ...       ...        ...   \n",
              "11019      539271  539272      UA     787         SFO       SAN          5   \n",
              "11020      539272  539273      UA     455         SFO       LAS          5   \n",
              "11021      539280  539281      OO    6344         LAX       SAN          5   \n",
              "11022      539287  539288      UA     927         SFO       LAX          5   \n",
              "11023      539312  539313      UA     416         LAX       LAS          5   \n",
              "\n",
              "       Time  Length  Delay  \n",
              "0        20     165      1  \n",
              "1        20     195      1  \n",
              "2        55     170      0  \n",
              "3       360     150      1  \n",
              "4       360     215      0  \n",
              "...     ...     ...    ...  \n",
              "11019  1357      91      0  \n",
              "11020  1359      94      0  \n",
              "11021  1360      54      0  \n",
              "11022  1361      88      0  \n",
              "11023  1369      70      0  \n",
              "\n",
              "[11024 rows x 10 columns]"
            ],
            "text/html": [
              "\n",
              "  <div id=\"df-ed96c737-34d0-49b1-a7c1-9a11ace74cc7\">\n",
              "    <div class=\"colab-df-container\">\n",
              "      <div>\n",
              "<style scoped>\n",
              "    .dataframe tbody tr th:only-of-type {\n",
              "        vertical-align: middle;\n",
              "    }\n",
              "\n",
              "    .dataframe tbody tr th {\n",
              "        vertical-align: top;\n",
              "    }\n",
              "\n",
              "    .dataframe thead th {\n",
              "        text-align: right;\n",
              "    }\n",
              "</style>\n",
              "<table border=\"1\" class=\"dataframe\">\n",
              "  <thead>\n",
              "    <tr style=\"text-align: right;\">\n",
              "      <th></th>\n",
              "      <th>Unnamed: 0</th>\n",
              "      <th>id</th>\n",
              "      <th>Airline</th>\n",
              "      <th>Flight</th>\n",
              "      <th>AirportFrom</th>\n",
              "      <th>AirportTo</th>\n",
              "      <th>DayOfWeek</th>\n",
              "      <th>Time</th>\n",
              "      <th>Length</th>\n",
              "      <th>Delay</th>\n",
              "    </tr>\n",
              "  </thead>\n",
              "  <tbody>\n",
              "    <tr>\n",
              "      <th>0</th>\n",
              "      <td>2</td>\n",
              "      <td>3</td>\n",
              "      <td>AA</td>\n",
              "      <td>2400</td>\n",
              "      <td>LAX</td>\n",
              "      <td>DFW</td>\n",
              "      <td>3</td>\n",
              "      <td>20</td>\n",
              "      <td>165</td>\n",
              "      <td>1</td>\n",
              "    </tr>\n",
              "    <tr>\n",
              "      <th>1</th>\n",
              "      <td>3</td>\n",
              "      <td>4</td>\n",
              "      <td>AA</td>\n",
              "      <td>2466</td>\n",
              "      <td>SFO</td>\n",
              "      <td>DFW</td>\n",
              "      <td>3</td>\n",
              "      <td>20</td>\n",
              "      <td>195</td>\n",
              "      <td>1</td>\n",
              "    </tr>\n",
              "    <tr>\n",
              "      <th>2</th>\n",
              "      <td>13</td>\n",
              "      <td>14</td>\n",
              "      <td>AA</td>\n",
              "      <td>2408</td>\n",
              "      <td>LAX</td>\n",
              "      <td>DFW</td>\n",
              "      <td>3</td>\n",
              "      <td>55</td>\n",
              "      <td>170</td>\n",
              "      <td>0</td>\n",
              "    </tr>\n",
              "    <tr>\n",
              "      <th>3</th>\n",
              "      <td>228</td>\n",
              "      <td>229</td>\n",
              "      <td>AA</td>\n",
              "      <td>2301</td>\n",
              "      <td>ORD</td>\n",
              "      <td>DFW</td>\n",
              "      <td>3</td>\n",
              "      <td>360</td>\n",
              "      <td>150</td>\n",
              "      <td>1</td>\n",
              "    </tr>\n",
              "    <tr>\n",
              "      <th>4</th>\n",
              "      <td>230</td>\n",
              "      <td>231</td>\n",
              "      <td>AA</td>\n",
              "      <td>526</td>\n",
              "      <td>SFO</td>\n",
              "      <td>DFW</td>\n",
              "      <td>3</td>\n",
              "      <td>360</td>\n",
              "      <td>215</td>\n",
              "      <td>0</td>\n",
              "    </tr>\n",
              "    <tr>\n",
              "      <th>...</th>\n",
              "      <td>...</td>\n",
              "      <td>...</td>\n",
              "      <td>...</td>\n",
              "      <td>...</td>\n",
              "      <td>...</td>\n",
              "      <td>...</td>\n",
              "      <td>...</td>\n",
              "      <td>...</td>\n",
              "      <td>...</td>\n",
              "      <td>...</td>\n",
              "    </tr>\n",
              "    <tr>\n",
              "      <th>11019</th>\n",
              "      <td>539271</td>\n",
              "      <td>539272</td>\n",
              "      <td>UA</td>\n",
              "      <td>787</td>\n",
              "      <td>SFO</td>\n",
              "      <td>SAN</td>\n",
              "      <td>5</td>\n",
              "      <td>1357</td>\n",
              "      <td>91</td>\n",
              "      <td>0</td>\n",
              "    </tr>\n",
              "    <tr>\n",
              "      <th>11020</th>\n",
              "      <td>539272</td>\n",
              "      <td>539273</td>\n",
              "      <td>UA</td>\n",
              "      <td>455</td>\n",
              "      <td>SFO</td>\n",
              "      <td>LAS</td>\n",
              "      <td>5</td>\n",
              "      <td>1359</td>\n",
              "      <td>94</td>\n",
              "      <td>0</td>\n",
              "    </tr>\n",
              "    <tr>\n",
              "      <th>11021</th>\n",
              "      <td>539280</td>\n",
              "      <td>539281</td>\n",
              "      <td>OO</td>\n",
              "      <td>6344</td>\n",
              "      <td>LAX</td>\n",
              "      <td>SAN</td>\n",
              "      <td>5</td>\n",
              "      <td>1360</td>\n",
              "      <td>54</td>\n",
              "      <td>0</td>\n",
              "    </tr>\n",
              "    <tr>\n",
              "      <th>11022</th>\n",
              "      <td>539287</td>\n",
              "      <td>539288</td>\n",
              "      <td>UA</td>\n",
              "      <td>927</td>\n",
              "      <td>SFO</td>\n",
              "      <td>LAX</td>\n",
              "      <td>5</td>\n",
              "      <td>1361</td>\n",
              "      <td>88</td>\n",
              "      <td>0</td>\n",
              "    </tr>\n",
              "    <tr>\n",
              "      <th>11023</th>\n",
              "      <td>539312</td>\n",
              "      <td>539313</td>\n",
              "      <td>UA</td>\n",
              "      <td>416</td>\n",
              "      <td>LAX</td>\n",
              "      <td>LAS</td>\n",
              "      <td>5</td>\n",
              "      <td>1369</td>\n",
              "      <td>70</td>\n",
              "      <td>0</td>\n",
              "    </tr>\n",
              "  </tbody>\n",
              "</table>\n",
              "<p>11024 rows × 10 columns</p>\n",
              "</div>\n",
              "      <button class=\"colab-df-convert\" onclick=\"convertToInteractive('df-ed96c737-34d0-49b1-a7c1-9a11ace74cc7')\"\n",
              "              title=\"Convert this dataframe to an interactive table.\"\n",
              "              style=\"display:none;\">\n",
              "        \n",
              "  <svg xmlns=\"http://www.w3.org/2000/svg\" height=\"24px\"viewBox=\"0 0 24 24\"\n",
              "       width=\"24px\">\n",
              "    <path d=\"M0 0h24v24H0V0z\" fill=\"none\"/>\n",
              "    <path d=\"M18.56 5.44l.94 2.06.94-2.06 2.06-.94-2.06-.94-.94-2.06-.94 2.06-2.06.94zm-11 1L8.5 8.5l.94-2.06 2.06-.94-2.06-.94L8.5 2.5l-.94 2.06-2.06.94zm10 10l.94 2.06.94-2.06 2.06-.94-2.06-.94-.94-2.06-.94 2.06-2.06.94z\"/><path d=\"M17.41 7.96l-1.37-1.37c-.4-.4-.92-.59-1.43-.59-.52 0-1.04.2-1.43.59L10.3 9.45l-7.72 7.72c-.78.78-.78 2.05 0 2.83L4 21.41c.39.39.9.59 1.41.59.51 0 1.02-.2 1.41-.59l7.78-7.78 2.81-2.81c.8-.78.8-2.07 0-2.86zM5.41 20L4 18.59l7.72-7.72 1.47 1.35L5.41 20z\"/>\n",
              "  </svg>\n",
              "      </button>\n",
              "      \n",
              "  <style>\n",
              "    .colab-df-container {\n",
              "      display:flex;\n",
              "      flex-wrap:wrap;\n",
              "      gap: 12px;\n",
              "    }\n",
              "\n",
              "    .colab-df-convert {\n",
              "      background-color: #E8F0FE;\n",
              "      border: none;\n",
              "      border-radius: 50%;\n",
              "      cursor: pointer;\n",
              "      display: none;\n",
              "      fill: #1967D2;\n",
              "      height: 32px;\n",
              "      padding: 0 0 0 0;\n",
              "      width: 32px;\n",
              "    }\n",
              "\n",
              "    .colab-df-convert:hover {\n",
              "      background-color: #E2EBFA;\n",
              "      box-shadow: 0px 1px 2px rgba(60, 64, 67, 0.3), 0px 1px 3px 1px rgba(60, 64, 67, 0.15);\n",
              "      fill: #174EA6;\n",
              "    }\n",
              "\n",
              "    [theme=dark] .colab-df-convert {\n",
              "      background-color: #3B4455;\n",
              "      fill: #D2E3FC;\n",
              "    }\n",
              "\n",
              "    [theme=dark] .colab-df-convert:hover {\n",
              "      background-color: #434B5C;\n",
              "      box-shadow: 0px 1px 3px 1px rgba(0, 0, 0, 0.15);\n",
              "      filter: drop-shadow(0px 1px 2px rgba(0, 0, 0, 0.3));\n",
              "      fill: #FFFFFF;\n",
              "    }\n",
              "  </style>\n",
              "\n",
              "      <script>\n",
              "        const buttonEl =\n",
              "          document.querySelector('#df-ed96c737-34d0-49b1-a7c1-9a11ace74cc7 button.colab-df-convert');\n",
              "        buttonEl.style.display =\n",
              "          google.colab.kernel.accessAllowed ? 'block' : 'none';\n",
              "\n",
              "        async function convertToInteractive(key) {\n",
              "          const element = document.querySelector('#df-ed96c737-34d0-49b1-a7c1-9a11ace74cc7');\n",
              "          const dataTable =\n",
              "            await google.colab.kernel.invokeFunction('convertToInteractive',\n",
              "                                                     [key], {});\n",
              "          if (!dataTable) return;\n",
              "\n",
              "          const docLinkHtml = 'Like what you see? Visit the ' +\n",
              "            '<a target=\"_blank\" href=https://colab.research.google.com/notebooks/data_table.ipynb>data table notebook</a>'\n",
              "            + ' to learn more about interactive tables.';\n",
              "          element.innerHTML = '';\n",
              "          dataTable['output_type'] = 'display_data';\n",
              "          await google.colab.output.renderOutput(dataTable, element);\n",
              "          const docLink = document.createElement('div');\n",
              "          docLink.innerHTML = docLinkHtml;\n",
              "          element.appendChild(docLink);\n",
              "        }\n",
              "      </script>\n",
              "    </div>\n",
              "  </div>\n",
              "  "
            ]
          },
          "metadata": {},
          "execution_count": 3
        }
      ]
    },
    {
      "cell_type": "markdown",
      "source": [
        "1) Source of data\n",
        "\n",
        "https://www.kaggle.com/datasets/jimschacko/airlines-dataset-to-predict-a-delay\n",
        "\n",
        "2) Brief description of data\n",
        "\n",
        "Dataset of different US flights used to predict whether a flight gets delayed or not.\n",
        "\n",
        "3) What is the target?\n",
        "\n",
        "Flight Delayed? (Y/N)\n",
        "\n",
        "4) Is this a classification or regression problem?\n",
        "\n",
        "This will be a classification problem \n",
        "\n",
        "5) How many features?\n",
        "\n",
        "7\n",
        "\n",
        "6) How many rows of data.\n",
        "\n",
        "11024\n",
        "\n",
        "7) What, if any, challenges do your foresee in cleaning, exploring, or modeling with this\n",
        "\n",
        "The lack of numerical features may limit the model's ability to predict accurately, along with a multitude of other factors that play into flight delays, which are not included in this dataset (weather, travel demand, etc.)"
      ],
      "metadata": {
        "id": "Hc14Kw4OTEvQ"
      }
    },
    {
      "cell_type": "markdown",
      "source": [
        "#Data Cleaning "
      ],
      "metadata": {
        "id": "Lf3oFnUYV5Pv"
      }
    },
    {
      "cell_type": "code",
      "source": [
        "airlines = airlines.drop(['id', 'Flight'], axis = 1) #drop unneeded columns"
      ],
      "metadata": {
        "id": "y6EOQIftV_Zm"
      },
      "execution_count": 4,
      "outputs": []
    },
    {
      "cell_type": "code",
      "source": [
        "airlines = airlines.drop(['Unnamed: 0'], axis = 1) #drop unneeded columns"
      ],
      "metadata": {
        "id": "BuSg0mHnQTqC"
      },
      "execution_count": 5,
      "outputs": []
    },
    {
      "cell_type": "markdown",
      "source": [
        "Drop id and Flight number columns, as they provide no benefit in training a model to predict delays"
      ],
      "metadata": {
        "id": "jCslXym8X0oG"
      }
    },
    {
      "cell_type": "code",
      "source": [
        "airlines.isna().sum() #check missing values"
      ],
      "metadata": {
        "colab": {
          "base_uri": "https://localhost:8080/"
        },
        "id": "Xf84kTkbV_WS",
        "outputId": "cad378b4-fee5-42b4-a3de-98b881839a2f"
      },
      "execution_count": 6,
      "outputs": [
        {
          "output_type": "execute_result",
          "data": {
            "text/plain": [
              "Airline        0\n",
              "AirportFrom    0\n",
              "AirportTo      0\n",
              "DayOfWeek      0\n",
              "Time           0\n",
              "Length         0\n",
              "Delay          0\n",
              "dtype: int64"
            ]
          },
          "metadata": {},
          "execution_count": 6
        }
      ]
    },
    {
      "cell_type": "markdown",
      "source": [
        "**no missing values**"
      ],
      "metadata": {
        "id": "5iIoyz0pj0PA"
      }
    },
    {
      "cell_type": "code",
      "source": [
        "airlines.duplicated().sum()   #check for duplicated rows"
      ],
      "metadata": {
        "colab": {
          "base_uri": "https://localhost:8080/"
        },
        "id": "FxQu1AzdV_Tc",
        "outputId": "63757ab5-003a-4f00-e8c8-d080cc203ab6"
      },
      "execution_count": 7,
      "outputs": [
        {
          "output_type": "execute_result",
          "data": {
            "text/plain": [
              "4507"
            ]
          },
          "metadata": {},
          "execution_count": 7
        }
      ]
    },
    {
      "cell_type": "markdown",
      "source": [
        "**many duplicated rows**"
      ],
      "metadata": {
        "id": "kIqvOf2-kDkD"
      }
    },
    {
      "cell_type": "code",
      "source": [
        "airlines = airlines.drop_duplicates() #drop duplicated rows"
      ],
      "metadata": {
        "id": "EEumJIHskoJX"
      },
      "execution_count": 8,
      "outputs": []
    },
    {
      "cell_type": "code",
      "source": [
        "airlines.duplicated().sum()   #check for duplicated rows"
      ],
      "metadata": {
        "colab": {
          "base_uri": "https://localhost:8080/"
        },
        "id": "K-Yi3gBck2tm",
        "outputId": "c8398bfa-00d2-47e3-f165-e201d92fe178"
      },
      "execution_count": 9,
      "outputs": [
        {
          "output_type": "execute_result",
          "data": {
            "text/plain": [
              "0"
            ]
          },
          "metadata": {},
          "execution_count": 9
        }
      ]
    },
    {
      "cell_type": "markdown",
      "source": [
        "**duplicates removed**"
      ],
      "metadata": {
        "id": "ER6oHUTTj28z"
      }
    },
    {
      "cell_type": "code",
      "source": [
        "dtypes = airlines.dtypes                           #find any irregularities in the entries within columns of object datatype\n",
        "strings = dtypes[dtypes == 'object'].index\n",
        "\n",
        "for c in strings:\n",
        "  print(f'Column = {c}')\n",
        "  print(airlines[c].value_counts(dropna = False))\n",
        "  print('\\n\\n')"
      ],
      "metadata": {
        "colab": {
          "base_uri": "https://localhost:8080/"
        },
        "id": "vOrIVzIvV_OL",
        "outputId": "8ac3743f-1687-4aa3-ae50-a4f6b49f82d4"
      },
      "execution_count": 10,
      "outputs": [
        {
          "output_type": "stream",
          "name": "stdout",
          "text": [
            "Column = Airline\n",
            "UA    2327\n",
            "WN    1272\n",
            "AA    1256\n",
            "DL     891\n",
            "OO     771\n",
            "Name: Airline, dtype: int64\n",
            "\n",
            "\n",
            "\n",
            "Column = AirportFrom\n",
            "LAX    1747\n",
            "SFO    1369\n",
            "DEN    1263\n",
            "ORD    1211\n",
            "ATL     927\n",
            "Name: AirportFrom, dtype: int64\n",
            "\n",
            "\n",
            "\n",
            "Column = AirportTo\n",
            "LAX    1469\n",
            "LAS    1338\n",
            "SFO    1298\n",
            "DFW    1269\n",
            "SAN    1143\n",
            "Name: AirportTo, dtype: int64\n",
            "\n",
            "\n",
            "\n"
          ]
        }
      ]
    },
    {
      "cell_type": "markdown",
      "source": [
        "**no irregular labels of objects**"
      ],
      "metadata": {
        "id": "TeLGvRfGkJPm"
      }
    },
    {
      "cell_type": "code",
      "source": [
        "airlines.describe()"
      ],
      "metadata": {
        "colab": {
          "base_uri": "https://localhost:8080/",
          "height": 300
        },
        "id": "_wgZzHF7V_HF",
        "outputId": "bbe122fc-0096-48c3-cc60-abee957acfb2"
      },
      "execution_count": 11,
      "outputs": [
        {
          "output_type": "execute_result",
          "data": {
            "text/plain": [
              "         DayOfWeek         Time       Length        Delay\n",
              "count  6517.000000  6517.000000  6517.000000  6517.000000\n",
              "mean      3.978518   830.233696   151.681602     0.513580\n",
              "std       1.959339   290.999598    80.971562     0.499854\n",
              "min       1.000000    20.000000    45.000000     0.000000\n",
              "25%       2.000000   585.000000    85.000000     0.000000\n",
              "50%       4.000000   814.000000   145.000000     1.000000\n",
              "75%       6.000000  1085.000000   202.000000     1.000000\n",
              "max       7.000000  1369.000000   335.000000     1.000000"
            ],
            "text/html": [
              "\n",
              "  <div id=\"df-6a279d7d-7030-4f13-91a8-df5727a20b90\">\n",
              "    <div class=\"colab-df-container\">\n",
              "      <div>\n",
              "<style scoped>\n",
              "    .dataframe tbody tr th:only-of-type {\n",
              "        vertical-align: middle;\n",
              "    }\n",
              "\n",
              "    .dataframe tbody tr th {\n",
              "        vertical-align: top;\n",
              "    }\n",
              "\n",
              "    .dataframe thead th {\n",
              "        text-align: right;\n",
              "    }\n",
              "</style>\n",
              "<table border=\"1\" class=\"dataframe\">\n",
              "  <thead>\n",
              "    <tr style=\"text-align: right;\">\n",
              "      <th></th>\n",
              "      <th>DayOfWeek</th>\n",
              "      <th>Time</th>\n",
              "      <th>Length</th>\n",
              "      <th>Delay</th>\n",
              "    </tr>\n",
              "  </thead>\n",
              "  <tbody>\n",
              "    <tr>\n",
              "      <th>count</th>\n",
              "      <td>6517.000000</td>\n",
              "      <td>6517.000000</td>\n",
              "      <td>6517.000000</td>\n",
              "      <td>6517.000000</td>\n",
              "    </tr>\n",
              "    <tr>\n",
              "      <th>mean</th>\n",
              "      <td>3.978518</td>\n",
              "      <td>830.233696</td>\n",
              "      <td>151.681602</td>\n",
              "      <td>0.513580</td>\n",
              "    </tr>\n",
              "    <tr>\n",
              "      <th>std</th>\n",
              "      <td>1.959339</td>\n",
              "      <td>290.999598</td>\n",
              "      <td>80.971562</td>\n",
              "      <td>0.499854</td>\n",
              "    </tr>\n",
              "    <tr>\n",
              "      <th>min</th>\n",
              "      <td>1.000000</td>\n",
              "      <td>20.000000</td>\n",
              "      <td>45.000000</td>\n",
              "      <td>0.000000</td>\n",
              "    </tr>\n",
              "    <tr>\n",
              "      <th>25%</th>\n",
              "      <td>2.000000</td>\n",
              "      <td>585.000000</td>\n",
              "      <td>85.000000</td>\n",
              "      <td>0.000000</td>\n",
              "    </tr>\n",
              "    <tr>\n",
              "      <th>50%</th>\n",
              "      <td>4.000000</td>\n",
              "      <td>814.000000</td>\n",
              "      <td>145.000000</td>\n",
              "      <td>1.000000</td>\n",
              "    </tr>\n",
              "    <tr>\n",
              "      <th>75%</th>\n",
              "      <td>6.000000</td>\n",
              "      <td>1085.000000</td>\n",
              "      <td>202.000000</td>\n",
              "      <td>1.000000</td>\n",
              "    </tr>\n",
              "    <tr>\n",
              "      <th>max</th>\n",
              "      <td>7.000000</td>\n",
              "      <td>1369.000000</td>\n",
              "      <td>335.000000</td>\n",
              "      <td>1.000000</td>\n",
              "    </tr>\n",
              "  </tbody>\n",
              "</table>\n",
              "</div>\n",
              "      <button class=\"colab-df-convert\" onclick=\"convertToInteractive('df-6a279d7d-7030-4f13-91a8-df5727a20b90')\"\n",
              "              title=\"Convert this dataframe to an interactive table.\"\n",
              "              style=\"display:none;\">\n",
              "        \n",
              "  <svg xmlns=\"http://www.w3.org/2000/svg\" height=\"24px\"viewBox=\"0 0 24 24\"\n",
              "       width=\"24px\">\n",
              "    <path d=\"M0 0h24v24H0V0z\" fill=\"none\"/>\n",
              "    <path d=\"M18.56 5.44l.94 2.06.94-2.06 2.06-.94-2.06-.94-.94-2.06-.94 2.06-2.06.94zm-11 1L8.5 8.5l.94-2.06 2.06-.94-2.06-.94L8.5 2.5l-.94 2.06-2.06.94zm10 10l.94 2.06.94-2.06 2.06-.94-2.06-.94-.94-2.06-.94 2.06-2.06.94z\"/><path d=\"M17.41 7.96l-1.37-1.37c-.4-.4-.92-.59-1.43-.59-.52 0-1.04.2-1.43.59L10.3 9.45l-7.72 7.72c-.78.78-.78 2.05 0 2.83L4 21.41c.39.39.9.59 1.41.59.51 0 1.02-.2 1.41-.59l7.78-7.78 2.81-2.81c.8-.78.8-2.07 0-2.86zM5.41 20L4 18.59l7.72-7.72 1.47 1.35L5.41 20z\"/>\n",
              "  </svg>\n",
              "      </button>\n",
              "      \n",
              "  <style>\n",
              "    .colab-df-container {\n",
              "      display:flex;\n",
              "      flex-wrap:wrap;\n",
              "      gap: 12px;\n",
              "    }\n",
              "\n",
              "    .colab-df-convert {\n",
              "      background-color: #E8F0FE;\n",
              "      border: none;\n",
              "      border-radius: 50%;\n",
              "      cursor: pointer;\n",
              "      display: none;\n",
              "      fill: #1967D2;\n",
              "      height: 32px;\n",
              "      padding: 0 0 0 0;\n",
              "      width: 32px;\n",
              "    }\n",
              "\n",
              "    .colab-df-convert:hover {\n",
              "      background-color: #E2EBFA;\n",
              "      box-shadow: 0px 1px 2px rgba(60, 64, 67, 0.3), 0px 1px 3px 1px rgba(60, 64, 67, 0.15);\n",
              "      fill: #174EA6;\n",
              "    }\n",
              "\n",
              "    [theme=dark] .colab-df-convert {\n",
              "      background-color: #3B4455;\n",
              "      fill: #D2E3FC;\n",
              "    }\n",
              "\n",
              "    [theme=dark] .colab-df-convert:hover {\n",
              "      background-color: #434B5C;\n",
              "      box-shadow: 0px 1px 3px 1px rgba(0, 0, 0, 0.15);\n",
              "      filter: drop-shadow(0px 1px 2px rgba(0, 0, 0, 0.3));\n",
              "      fill: #FFFFFF;\n",
              "    }\n",
              "  </style>\n",
              "\n",
              "      <script>\n",
              "        const buttonEl =\n",
              "          document.querySelector('#df-6a279d7d-7030-4f13-91a8-df5727a20b90 button.colab-df-convert');\n",
              "        buttonEl.style.display =\n",
              "          google.colab.kernel.accessAllowed ? 'block' : 'none';\n",
              "\n",
              "        async function convertToInteractive(key) {\n",
              "          const element = document.querySelector('#df-6a279d7d-7030-4f13-91a8-df5727a20b90');\n",
              "          const dataTable =\n",
              "            await google.colab.kernel.invokeFunction('convertToInteractive',\n",
              "                                                     [key], {});\n",
              "          if (!dataTable) return;\n",
              "\n",
              "          const docLinkHtml = 'Like what you see? Visit the ' +\n",
              "            '<a target=\"_blank\" href=https://colab.research.google.com/notebooks/data_table.ipynb>data table notebook</a>'\n",
              "            + ' to learn more about interactive tables.';\n",
              "          element.innerHTML = '';\n",
              "          dataTable['output_type'] = 'display_data';\n",
              "          await google.colab.output.renderOutput(dataTable, element);\n",
              "          const docLink = document.createElement('div');\n",
              "          docLink.innerHTML = docLinkHtml;\n",
              "          element.appendChild(docLink);\n",
              "        }\n",
              "      </script>\n",
              "    </div>\n",
              "  </div>\n",
              "  "
            ]
          },
          "metadata": {},
          "execution_count": 11
        }
      ]
    },
    {
      "cell_type": "markdown",
      "source": [
        "**the data seems well distributed but min time of 20 seems unreasonably low**"
      ],
      "metadata": {
        "id": "iyUtWPUjkM53"
      }
    },
    {
      "cell_type": "code",
      "source": [
        "airlines = airlines[airlines['Time'] != 20] #drop row"
      ],
      "metadata": {
        "id": "8g17-b10chfH"
      },
      "execution_count": 12,
      "outputs": []
    },
    {
      "cell_type": "markdown",
      "source": [
        "drop row that has Time = 20"
      ],
      "metadata": {
        "id": "d0x3wLAgdnQl"
      }
    },
    {
      "cell_type": "code",
      "source": [
        "airlines.describe()"
      ],
      "metadata": {
        "colab": {
          "base_uri": "https://localhost:8080/",
          "height": 300
        },
        "id": "goNnilsBdN4g",
        "outputId": "4863f142-f352-44bc-a5e7-c62126e08aa1"
      },
      "execution_count": 13,
      "outputs": [
        {
          "output_type": "execute_result",
          "data": {
            "text/plain": [
              "         DayOfWeek         Time       Length        Delay\n",
              "count  6488.000000  6488.000000  6488.000000  6488.000000\n",
              "mean      3.977343   833.855271   151.557337     0.513409\n",
              "std       1.959340   286.550934    81.125010     0.499859\n",
              "min       1.000000    55.000000    45.000000     0.000000\n",
              "25%       2.000000   585.000000    85.000000     0.000000\n",
              "50%       4.000000   820.000000   137.000000     1.000000\n",
              "75%       6.000000  1085.000000   205.000000     1.000000\n",
              "max       7.000000  1369.000000   335.000000     1.000000"
            ],
            "text/html": [
              "\n",
              "  <div id=\"df-bf88653b-bb5a-4b8c-a2e4-95843868cca6\">\n",
              "    <div class=\"colab-df-container\">\n",
              "      <div>\n",
              "<style scoped>\n",
              "    .dataframe tbody tr th:only-of-type {\n",
              "        vertical-align: middle;\n",
              "    }\n",
              "\n",
              "    .dataframe tbody tr th {\n",
              "        vertical-align: top;\n",
              "    }\n",
              "\n",
              "    .dataframe thead th {\n",
              "        text-align: right;\n",
              "    }\n",
              "</style>\n",
              "<table border=\"1\" class=\"dataframe\">\n",
              "  <thead>\n",
              "    <tr style=\"text-align: right;\">\n",
              "      <th></th>\n",
              "      <th>DayOfWeek</th>\n",
              "      <th>Time</th>\n",
              "      <th>Length</th>\n",
              "      <th>Delay</th>\n",
              "    </tr>\n",
              "  </thead>\n",
              "  <tbody>\n",
              "    <tr>\n",
              "      <th>count</th>\n",
              "      <td>6488.000000</td>\n",
              "      <td>6488.000000</td>\n",
              "      <td>6488.000000</td>\n",
              "      <td>6488.000000</td>\n",
              "    </tr>\n",
              "    <tr>\n",
              "      <th>mean</th>\n",
              "      <td>3.977343</td>\n",
              "      <td>833.855271</td>\n",
              "      <td>151.557337</td>\n",
              "      <td>0.513409</td>\n",
              "    </tr>\n",
              "    <tr>\n",
              "      <th>std</th>\n",
              "      <td>1.959340</td>\n",
              "      <td>286.550934</td>\n",
              "      <td>81.125010</td>\n",
              "      <td>0.499859</td>\n",
              "    </tr>\n",
              "    <tr>\n",
              "      <th>min</th>\n",
              "      <td>1.000000</td>\n",
              "      <td>55.000000</td>\n",
              "      <td>45.000000</td>\n",
              "      <td>0.000000</td>\n",
              "    </tr>\n",
              "    <tr>\n",
              "      <th>25%</th>\n",
              "      <td>2.000000</td>\n",
              "      <td>585.000000</td>\n",
              "      <td>85.000000</td>\n",
              "      <td>0.000000</td>\n",
              "    </tr>\n",
              "    <tr>\n",
              "      <th>50%</th>\n",
              "      <td>4.000000</td>\n",
              "      <td>820.000000</td>\n",
              "      <td>137.000000</td>\n",
              "      <td>1.000000</td>\n",
              "    </tr>\n",
              "    <tr>\n",
              "      <th>75%</th>\n",
              "      <td>6.000000</td>\n",
              "      <td>1085.000000</td>\n",
              "      <td>205.000000</td>\n",
              "      <td>1.000000</td>\n",
              "    </tr>\n",
              "    <tr>\n",
              "      <th>max</th>\n",
              "      <td>7.000000</td>\n",
              "      <td>1369.000000</td>\n",
              "      <td>335.000000</td>\n",
              "      <td>1.000000</td>\n",
              "    </tr>\n",
              "  </tbody>\n",
              "</table>\n",
              "</div>\n",
              "      <button class=\"colab-df-convert\" onclick=\"convertToInteractive('df-bf88653b-bb5a-4b8c-a2e4-95843868cca6')\"\n",
              "              title=\"Convert this dataframe to an interactive table.\"\n",
              "              style=\"display:none;\">\n",
              "        \n",
              "  <svg xmlns=\"http://www.w3.org/2000/svg\" height=\"24px\"viewBox=\"0 0 24 24\"\n",
              "       width=\"24px\">\n",
              "    <path d=\"M0 0h24v24H0V0z\" fill=\"none\"/>\n",
              "    <path d=\"M18.56 5.44l.94 2.06.94-2.06 2.06-.94-2.06-.94-.94-2.06-.94 2.06-2.06.94zm-11 1L8.5 8.5l.94-2.06 2.06-.94-2.06-.94L8.5 2.5l-.94 2.06-2.06.94zm10 10l.94 2.06.94-2.06 2.06-.94-2.06-.94-.94-2.06-.94 2.06-2.06.94z\"/><path d=\"M17.41 7.96l-1.37-1.37c-.4-.4-.92-.59-1.43-.59-.52 0-1.04.2-1.43.59L10.3 9.45l-7.72 7.72c-.78.78-.78 2.05 0 2.83L4 21.41c.39.39.9.59 1.41.59.51 0 1.02-.2 1.41-.59l7.78-7.78 2.81-2.81c.8-.78.8-2.07 0-2.86zM5.41 20L4 18.59l7.72-7.72 1.47 1.35L5.41 20z\"/>\n",
              "  </svg>\n",
              "      </button>\n",
              "      \n",
              "  <style>\n",
              "    .colab-df-container {\n",
              "      display:flex;\n",
              "      flex-wrap:wrap;\n",
              "      gap: 12px;\n",
              "    }\n",
              "\n",
              "    .colab-df-convert {\n",
              "      background-color: #E8F0FE;\n",
              "      border: none;\n",
              "      border-radius: 50%;\n",
              "      cursor: pointer;\n",
              "      display: none;\n",
              "      fill: #1967D2;\n",
              "      height: 32px;\n",
              "      padding: 0 0 0 0;\n",
              "      width: 32px;\n",
              "    }\n",
              "\n",
              "    .colab-df-convert:hover {\n",
              "      background-color: #E2EBFA;\n",
              "      box-shadow: 0px 1px 2px rgba(60, 64, 67, 0.3), 0px 1px 3px 1px rgba(60, 64, 67, 0.15);\n",
              "      fill: #174EA6;\n",
              "    }\n",
              "\n",
              "    [theme=dark] .colab-df-convert {\n",
              "      background-color: #3B4455;\n",
              "      fill: #D2E3FC;\n",
              "    }\n",
              "\n",
              "    [theme=dark] .colab-df-convert:hover {\n",
              "      background-color: #434B5C;\n",
              "      box-shadow: 0px 1px 3px 1px rgba(0, 0, 0, 0.15);\n",
              "      filter: drop-shadow(0px 1px 2px rgba(0, 0, 0, 0.3));\n",
              "      fill: #FFFFFF;\n",
              "    }\n",
              "  </style>\n",
              "\n",
              "      <script>\n",
              "        const buttonEl =\n",
              "          document.querySelector('#df-bf88653b-bb5a-4b8c-a2e4-95843868cca6 button.colab-df-convert');\n",
              "        buttonEl.style.display =\n",
              "          google.colab.kernel.accessAllowed ? 'block' : 'none';\n",
              "\n",
              "        async function convertToInteractive(key) {\n",
              "          const element = document.querySelector('#df-bf88653b-bb5a-4b8c-a2e4-95843868cca6');\n",
              "          const dataTable =\n",
              "            await google.colab.kernel.invokeFunction('convertToInteractive',\n",
              "                                                     [key], {});\n",
              "          if (!dataTable) return;\n",
              "\n",
              "          const docLinkHtml = 'Like what you see? Visit the ' +\n",
              "            '<a target=\"_blank\" href=https://colab.research.google.com/notebooks/data_table.ipynb>data table notebook</a>'\n",
              "            + ' to learn more about interactive tables.';\n",
              "          element.innerHTML = '';\n",
              "          dataTable['output_type'] = 'display_data';\n",
              "          await google.colab.output.renderOutput(dataTable, element);\n",
              "          const docLink = document.createElement('div');\n",
              "          docLink.innerHTML = docLinkHtml;\n",
              "          element.appendChild(docLink);\n",
              "        }\n",
              "      </script>\n",
              "    </div>\n",
              "  </div>\n",
              "  "
            ]
          },
          "metadata": {},
          "execution_count": 13
        }
      ]
    },
    {
      "cell_type": "markdown",
      "source": [
        "**55 is also likely too low**\n",
        "\n",
        "drop row that has Time = 55"
      ],
      "metadata": {
        "id": "iz-zrPUgdA7w"
      }
    },
    {
      "cell_type": "code",
      "source": [
        "airlines = airlines[airlines['Time'] != 55]\n",
        "airlines.describe()"
      ],
      "metadata": {
        "colab": {
          "base_uri": "https://localhost:8080/",
          "height": 300
        },
        "id": "07OC36BndEcx",
        "outputId": "865388c1-6558-4b5e-cd40-333c35b47a9b"
      },
      "execution_count": 14,
      "outputs": [
        {
          "output_type": "execute_result",
          "data": {
            "text/plain": [
              "         DayOfWeek         Time       Length        Delay\n",
              "count  6473.000000  6473.000000  6473.000000  6473.000000\n",
              "mean      3.976827   835.660127   151.515372     0.513363\n",
              "std       1.959042   284.416155    81.214254     0.499860\n",
              "min       1.000000   353.000000    45.000000     0.000000\n",
              "25%       2.000000   585.000000    85.000000     0.000000\n",
              "50%       4.000000   820.000000   135.000000     1.000000\n",
              "75%       6.000000  1085.000000   205.000000     1.000000\n",
              "max       7.000000  1369.000000   335.000000     1.000000"
            ],
            "text/html": [
              "\n",
              "  <div id=\"df-5a96009e-fa1c-46b5-8f9e-33c0085d71b8\">\n",
              "    <div class=\"colab-df-container\">\n",
              "      <div>\n",
              "<style scoped>\n",
              "    .dataframe tbody tr th:only-of-type {\n",
              "        vertical-align: middle;\n",
              "    }\n",
              "\n",
              "    .dataframe tbody tr th {\n",
              "        vertical-align: top;\n",
              "    }\n",
              "\n",
              "    .dataframe thead th {\n",
              "        text-align: right;\n",
              "    }\n",
              "</style>\n",
              "<table border=\"1\" class=\"dataframe\">\n",
              "  <thead>\n",
              "    <tr style=\"text-align: right;\">\n",
              "      <th></th>\n",
              "      <th>DayOfWeek</th>\n",
              "      <th>Time</th>\n",
              "      <th>Length</th>\n",
              "      <th>Delay</th>\n",
              "    </tr>\n",
              "  </thead>\n",
              "  <tbody>\n",
              "    <tr>\n",
              "      <th>count</th>\n",
              "      <td>6473.000000</td>\n",
              "      <td>6473.000000</td>\n",
              "      <td>6473.000000</td>\n",
              "      <td>6473.000000</td>\n",
              "    </tr>\n",
              "    <tr>\n",
              "      <th>mean</th>\n",
              "      <td>3.976827</td>\n",
              "      <td>835.660127</td>\n",
              "      <td>151.515372</td>\n",
              "      <td>0.513363</td>\n",
              "    </tr>\n",
              "    <tr>\n",
              "      <th>std</th>\n",
              "      <td>1.959042</td>\n",
              "      <td>284.416155</td>\n",
              "      <td>81.214254</td>\n",
              "      <td>0.499860</td>\n",
              "    </tr>\n",
              "    <tr>\n",
              "      <th>min</th>\n",
              "      <td>1.000000</td>\n",
              "      <td>353.000000</td>\n",
              "      <td>45.000000</td>\n",
              "      <td>0.000000</td>\n",
              "    </tr>\n",
              "    <tr>\n",
              "      <th>25%</th>\n",
              "      <td>2.000000</td>\n",
              "      <td>585.000000</td>\n",
              "      <td>85.000000</td>\n",
              "      <td>0.000000</td>\n",
              "    </tr>\n",
              "    <tr>\n",
              "      <th>50%</th>\n",
              "      <td>4.000000</td>\n",
              "      <td>820.000000</td>\n",
              "      <td>135.000000</td>\n",
              "      <td>1.000000</td>\n",
              "    </tr>\n",
              "    <tr>\n",
              "      <th>75%</th>\n",
              "      <td>6.000000</td>\n",
              "      <td>1085.000000</td>\n",
              "      <td>205.000000</td>\n",
              "      <td>1.000000</td>\n",
              "    </tr>\n",
              "    <tr>\n",
              "      <th>max</th>\n",
              "      <td>7.000000</td>\n",
              "      <td>1369.000000</td>\n",
              "      <td>335.000000</td>\n",
              "      <td>1.000000</td>\n",
              "    </tr>\n",
              "  </tbody>\n",
              "</table>\n",
              "</div>\n",
              "      <button class=\"colab-df-convert\" onclick=\"convertToInteractive('df-5a96009e-fa1c-46b5-8f9e-33c0085d71b8')\"\n",
              "              title=\"Convert this dataframe to an interactive table.\"\n",
              "              style=\"display:none;\">\n",
              "        \n",
              "  <svg xmlns=\"http://www.w3.org/2000/svg\" height=\"24px\"viewBox=\"0 0 24 24\"\n",
              "       width=\"24px\">\n",
              "    <path d=\"M0 0h24v24H0V0z\" fill=\"none\"/>\n",
              "    <path d=\"M18.56 5.44l.94 2.06.94-2.06 2.06-.94-2.06-.94-.94-2.06-.94 2.06-2.06.94zm-11 1L8.5 8.5l.94-2.06 2.06-.94-2.06-.94L8.5 2.5l-.94 2.06-2.06.94zm10 10l.94 2.06.94-2.06 2.06-.94-2.06-.94-.94-2.06-.94 2.06-2.06.94z\"/><path d=\"M17.41 7.96l-1.37-1.37c-.4-.4-.92-.59-1.43-.59-.52 0-1.04.2-1.43.59L10.3 9.45l-7.72 7.72c-.78.78-.78 2.05 0 2.83L4 21.41c.39.39.9.59 1.41.59.51 0 1.02-.2 1.41-.59l7.78-7.78 2.81-2.81c.8-.78.8-2.07 0-2.86zM5.41 20L4 18.59l7.72-7.72 1.47 1.35L5.41 20z\"/>\n",
              "  </svg>\n",
              "      </button>\n",
              "      \n",
              "  <style>\n",
              "    .colab-df-container {\n",
              "      display:flex;\n",
              "      flex-wrap:wrap;\n",
              "      gap: 12px;\n",
              "    }\n",
              "\n",
              "    .colab-df-convert {\n",
              "      background-color: #E8F0FE;\n",
              "      border: none;\n",
              "      border-radius: 50%;\n",
              "      cursor: pointer;\n",
              "      display: none;\n",
              "      fill: #1967D2;\n",
              "      height: 32px;\n",
              "      padding: 0 0 0 0;\n",
              "      width: 32px;\n",
              "    }\n",
              "\n",
              "    .colab-df-convert:hover {\n",
              "      background-color: #E2EBFA;\n",
              "      box-shadow: 0px 1px 2px rgba(60, 64, 67, 0.3), 0px 1px 3px 1px rgba(60, 64, 67, 0.15);\n",
              "      fill: #174EA6;\n",
              "    }\n",
              "\n",
              "    [theme=dark] .colab-df-convert {\n",
              "      background-color: #3B4455;\n",
              "      fill: #D2E3FC;\n",
              "    }\n",
              "\n",
              "    [theme=dark] .colab-df-convert:hover {\n",
              "      background-color: #434B5C;\n",
              "      box-shadow: 0px 1px 3px 1px rgba(0, 0, 0, 0.15);\n",
              "      filter: drop-shadow(0px 1px 2px rgba(0, 0, 0, 0.3));\n",
              "      fill: #FFFFFF;\n",
              "    }\n",
              "  </style>\n",
              "\n",
              "      <script>\n",
              "        const buttonEl =\n",
              "          document.querySelector('#df-5a96009e-fa1c-46b5-8f9e-33c0085d71b8 button.colab-df-convert');\n",
              "        buttonEl.style.display =\n",
              "          google.colab.kernel.accessAllowed ? 'block' : 'none';\n",
              "\n",
              "        async function convertToInteractive(key) {\n",
              "          const element = document.querySelector('#df-5a96009e-fa1c-46b5-8f9e-33c0085d71b8');\n",
              "          const dataTable =\n",
              "            await google.colab.kernel.invokeFunction('convertToInteractive',\n",
              "                                                     [key], {});\n",
              "          if (!dataTable) return;\n",
              "\n",
              "          const docLinkHtml = 'Like what you see? Visit the ' +\n",
              "            '<a target=\"_blank\" href=https://colab.research.google.com/notebooks/data_table.ipynb>data table notebook</a>'\n",
              "            + ' to learn more about interactive tables.';\n",
              "          element.innerHTML = '';\n",
              "          dataTable['output_type'] = 'display_data';\n",
              "          await google.colab.output.renderOutput(dataTable, element);\n",
              "          const docLink = document.createElement('div');\n",
              "          docLink.innerHTML = docLinkHtml;\n",
              "          element.appendChild(docLink);\n",
              "        }\n",
              "      </script>\n",
              "    </div>\n",
              "  </div>\n",
              "  "
            ]
          },
          "metadata": {},
          "execution_count": 14
        }
      ]
    },
    {
      "cell_type": "markdown",
      "source": [
        "**No remaining outliers**"
      ],
      "metadata": {
        "id": "M74iUn0_dbfg"
      }
    },
    {
      "cell_type": "markdown",
      "source": [
        "#Exploratory Viz"
      ],
      "metadata": {
        "id": "Vxo_s1g3kayO"
      }
    },
    {
      "cell_type": "code",
      "source": [
        "plt.boxplot(x='Length', data = airlines) #univariate boxplot of flight lengths\n",
        "plt.ylabel('Flight Length')\n",
        "plt.title('Univariate Distribution of Flight Lengths')\n"
      ],
      "metadata": {
        "colab": {
          "base_uri": "https://localhost:8080/",
          "height": 299
        },
        "id": "GA0i1phGZwZc",
        "outputId": "f5c3606b-0f27-4770-b77a-139284745352"
      },
      "execution_count": 15,
      "outputs": [
        {
          "output_type": "execute_result",
          "data": {
            "text/plain": [
              "Text(0.5, 1.0, 'Univariate Distribution of Flight Lengths')"
            ]
          },
          "metadata": {},
          "execution_count": 15
        },
        {
          "output_type": "display_data",
          "data": {
            "text/plain": [
              "<Figure size 432x288 with 1 Axes>"
            ],
            "image/png": "[encoded data removed]"
          },
          "metadata": {
            "needs_background": "light"
          }
        }
      ]
    },
    {
      "cell_type": "code",
      "source": [
        "plt.hist('Time', data = airlines, bins = 30) #univariate plot of Time feature\n",
        "plt.xlabel('Time')\n",
        "plt.ylabel('Flight Count')\n",
        "plt.title('Count Distribution of Flight Times')"
      ],
      "metadata": {
        "colab": {
          "base_uri": "https://localhost:8080/",
          "height": 313
        },
        "id": "uzNozl7vbTnf",
        "outputId": "beb1546a-8d7f-4b71-fe1a-c446f4e72ab7"
      },
      "execution_count": 16,
      "outputs": [
        {
          "output_type": "execute_result",
          "data": {
            "text/plain": [
              "Text(0.5, 1.0, 'Count Distribution of Flight Times')"
            ]
          },
          "metadata": {},
          "execution_count": 16
        },
        {
          "output_type": "display_data",
          "data": {
            "text/plain": [
              "<Figure size 432x288 with 1 Axes>"
            ],
            "image/png": "[encoded data removed]"
          },
          "metadata": {
            "needs_background": "light"
          }
        }
      ]
    },
    {
      "cell_type": "code",
      "source": [
        "sns.distplot(airlines['DayOfWeek'], bins = 7, kde = False, color = 'red').set(title = 'Flight Distribution by DayOfWeek') #flight DOW distribution\n",
        "plt.ylabel('Flight Count')"
      ],
      "metadata": {
        "colab": {
          "base_uri": "https://localhost:8080/",
          "height": 350
        },
        "id": "TDgWPmx-dL0O",
        "outputId": "dcd8720f-0d5e-4084-d88f-47f4e5d13ce3"
      },
      "execution_count": 17,
      "outputs": [
        {
          "output_type": "stream",
          "name": "stderr",
          "text": [
            "/usr/local/lib/python3.7/dist-packages/seaborn/distributions.py:2619: FutureWarning: `distplot` is a deprecated function and will be removed in a future version. Please adapt your code to use either `displot` (a figure-level function with similar flexibility) or `histplot` (an axes-level function for histograms).\n",
            "  warnings.warn(msg, FutureWarning)\n"
          ]
        },
        {
          "output_type": "execute_result",
          "data": {
            "text/plain": [
              "Text(0, 0.5, 'Flight Count')"
            ]
          },
          "metadata": {},
          "execution_count": 17
        },
        {
          "output_type": "display_data",
          "data": {
            "text/plain": [
              "<Figure size 432x288 with 1 Axes>"
            ],
            "image/png": "[encoded data removed]"
          },
          "metadata": {
            "needs_background": "light"
          }
        }
      ]
    },
    {
      "cell_type": "code",
      "source": [
        "airlines.groupby('Delay').size().plot.bar(rot=0) #target: how many flights were on-time?\n",
        "plt.xlabel('Flight Delayed? (0=No / 1=Yes)')\n",
        "plt.ylabel('Flight Count')\n",
        "plt.title('Flight On-Time Count')"
      ],
      "metadata": {
        "colab": {
          "base_uri": "https://localhost:8080/",
          "height": 313
        },
        "id": "rStmigyrmF_g",
        "outputId": "bddb6968-3e46-4a0f-8f74-2eccb74998a8"
      },
      "execution_count": 18,
      "outputs": [
        {
          "output_type": "execute_result",
          "data": {
            "text/plain": [
              "Text(0.5, 1.0, 'Flight On-Time Count')"
            ]
          },
          "metadata": {},
          "execution_count": 18
        },
        {
          "output_type": "display_data",
          "data": {
            "text/plain": [
              "<Figure size 432x288 with 1 Axes>"
            ],
            "image/png": "[encoded data removed]"
          },
          "metadata": {
            "needs_background": "light"
          }
        }
      ]
    },
    {
      "cell_type": "code",
      "source": [
        "airlines['Airline'].value_counts().plot(kind='barh') #univariate plot of Airline count\n",
        "plt.xlabel(\"Count\")\n",
        "plt.ylabel(\"Airline\")\n",
        "plt.title('Airline Count')"
      ],
      "metadata": {
        "id": "pQEgOTIkogHn",
        "colab": {
          "base_uri": "https://localhost:8080/",
          "height": 313
        },
        "outputId": "9bdca236-175f-4d93-a712-cebf3d7643cb"
      },
      "execution_count": 19,
      "outputs": [
        {
          "output_type": "execute_result",
          "data": {
            "text/plain": [
              "Text(0.5, 1.0, 'Airline Count')"
            ]
          },
          "metadata": {},
          "execution_count": 19
        },
        {
          "output_type": "display_data",
          "data": {
            "text/plain": [
              "<Figure size 432x288 with 1 Axes>"
            ],
            "image/png": "[encoded data removed]"
          },
          "metadata": {
            "needs_background": "light"
          }
        }
      ]
    },
    {
      "cell_type": "code",
      "source": [
        "airlines['AirportFrom'].value_counts().plot(kind='barh') #univariate plot of airport count\n",
        "plt.xlabel(\"Count\")\n",
        "plt.ylabel(\"Airport\")\n",
        "plt.title('Departure Airport Count')"
      ],
      "metadata": {
        "colab": {
          "base_uri": "https://localhost:8080/",
          "height": 313
        },
        "id": "f8K7Mq1oWmWT",
        "outputId": "6b60d6f0-1224-4f28-9a62-50ef3a59674a"
      },
      "execution_count": 20,
      "outputs": [
        {
          "output_type": "execute_result",
          "data": {
            "text/plain": [
              "Text(0.5, 1.0, 'Departure Airport Count')"
            ]
          },
          "metadata": {},
          "execution_count": 20
        },
        {
          "output_type": "display_data",
          "data": {
            "text/plain": [
              "<Figure size 432x288 with 1 Axes>"
            ],
            "image/png": "[encoded data removed]"
          },
          "metadata": {
            "needs_background": "light"
          }
        }
      ]
    },
    {
      "cell_type": "code",
      "source": [
        "airlines['AirportTo'].value_counts().plot(kind='barh') #univariate plot of airport count\n",
        "plt.xlabel(\"Count\")\n",
        "plt.ylabel(\"Airport\")\n",
        "plt.title('Arrival Airport Count')"
      ],
      "metadata": {
        "colab": {
          "base_uri": "https://localhost:8080/",
          "height": 313
        },
        "id": "xW6g8SbVbi6I",
        "outputId": "8ca28103-fad4-4a21-acf5-eda44eba260d"
      },
      "execution_count": 21,
      "outputs": [
        {
          "output_type": "execute_result",
          "data": {
            "text/plain": [
              "Text(0.5, 1.0, 'Arrival Airport Count')"
            ]
          },
          "metadata": {},
          "execution_count": 21
        },
        {
          "output_type": "display_data",
          "data": {
            "text/plain": [
              "<Figure size 432x288 with 1 Axes>"
            ],
            "image/png": "[encoded data removed]"
          },
          "metadata": {
            "needs_background": "light"
          }
        }
      ]
    },
    {
      "cell_type": "markdown",
      "source": [
        "#Explanatory Viz"
      ],
      "metadata": {
        "id": "gmabprsMkXQb"
      }
    },
    {
      "cell_type": "code",
      "source": [
        "unique, counts = np.unique(airlines['AirportFrom'].value_counts(), return_counts=True) \n",
        "unique = np.sort(unique)[::-1]\n",
        "\n",
        "def make_autopct(unique):       #https://stackoverflow.com/questions/6170246/how-do-i-use-matplotlib-autopct\n",
        "    def my_autopct(pct):\n",
        "        total = sum(unique)\n",
        "        val = int(round(pct*total/100.0))\n",
        "        return '{p:.1f}%  ({v:d})'.format(p=pct,v=val)\n",
        "    return my_autopct\n",
        "\n",
        "airlines['AirportFrom'].value_counts().plot(kind='pie',autopct=make_autopct(unique)) #pie plot\n",
        "plt.title('Distribution of Departure Airports - Percentage(Flight Count)') \n",
        "plt.tight_layout()\n"
      ],
      "metadata": {
        "id": "gm0cgUHFbtx5",
        "colab": {
          "base_uri": "https://localhost:8080/",
          "height": 297
        },
        "outputId": "e684b48d-889d-4957-e1ef-640c2447b4c4"
      },
      "execution_count": 22,
      "outputs": [
        {
          "output_type": "display_data",
          "data": {
            "text/plain": [
              "<Figure size 432x288 with 1 Axes>"
            ],
            "image/png": "[encoded data removed]"
          },
          "metadata": {}
        }
      ]
    },
    {
      "cell_type": "markdown",
      "source": [
        "This pie plot shows the distribution of departure airports within this dataset effectively, with LAX representing the largest share of flights, and ATL with the lowest. We can see that the range is approximately 800, with LAX having nearly double the departures compared to ATL within this dataset. DEN and ORD have nearly equal departures, differing by under 60 flights."
      ],
      "metadata": {
        "id": "uWy0uQJtt4aE"
      }
    },
    {
      "cell_type": "code",
      "source": [
        "c=sns.barplot(x=\"DayOfWeek\", y=\"Length\", data=airlines) #barplot\n",
        "plt.title('Length of Delayed/On-Time Flights by Day of Week')\n"
      ],
      "metadata": {
        "colab": {
          "base_uri": "https://localhost:8080/",
          "height": 313
        },
        "id": "9LX4HiSMki39",
        "outputId": "a33eb705-ec78-4fef-f92f-13322396b644"
      },
      "execution_count": 23,
      "outputs": [
        {
          "output_type": "execute_result",
          "data": {
            "text/plain": [
              "Text(0.5, 1.0, 'Length of Delayed/On-Time Flights by Day of Week')"
            ]
          },
          "metadata": {},
          "execution_count": 23
        },
        {
          "output_type": "display_data",
          "data": {
            "text/plain": [
              "<Figure size 432x288 with 1 Axes>"
            ],
            "image/png": "[encoded data removed]"
          },
          "metadata": {
            "needs_background": "light"
          }
        }
      ]
    },
    {
      "cell_type": "markdown",
      "source": [
        "This barplot shows the average flight lengths by Day of the Week, across all departures and arrival airports. We can see that within this dataset,  Saturday seems to have the longest flights followed closely by Sunday and Wednesday. Similarly, the greatest uncertainty in flight length mean is also found on weekends.We can see that the range of the mean lengths is quite homogeneous, with each day's aaverage flight length ~150, with a peak around 160."
      ],
      "metadata": {
        "id": "X3tG2yKevB_x"
      }
    },
    {
      "cell_type": "markdown",
      "source": [
        "#Data Preprocessing"
      ],
      "metadata": {
        "id": "UXKKoYlRXi-w"
      }
    },
    {
      "cell_type": "code",
      "source": [
        "airlines.head()"
      ],
      "metadata": {
        "colab": {
          "base_uri": "https://localhost:8080/",
          "height": 206
        },
        "id": "gjSbiqi5ZVAM",
        "outputId": "26ba1802-38d8-44b6-ddad-6689ba2ccdbd"
      },
      "execution_count": 24,
      "outputs": [
        {
          "output_type": "execute_result",
          "data": {
            "text/plain": [
              "  Airline AirportFrom AirportTo  DayOfWeek  Time  Length  Delay\n",
              "3      AA         ORD       DFW          3   360     150      1\n",
              "4      AA         SFO       DFW          3   360     215      0\n",
              "5      UA         SFO       LAS          3   360      98      0\n",
              "6      UA         LAX       SFO          3   360      89      0\n",
              "7      WN         LAX       SFO          3   360      80      0"
            ],
            "text/html": [
              "\n",
              "  <div id=\"df-6599b351-a8b7-4893-bd93-84e7c1818fb2\">\n",
              "    <div class=\"colab-df-container\">\n",
              "      <div>\n",
              "<style scoped>\n",
              "    .dataframe tbody tr th:only-of-type {\n",
              "        vertical-align: middle;\n",
              "    }\n",
              "\n",
              "    .dataframe tbody tr th {\n",
              "        vertical-align: top;\n",
              "    }\n",
              "\n",
              "    .dataframe thead th {\n",
              "        text-align: right;\n",
              "    }\n",
              "</style>\n",
              "<table border=\"1\" class=\"dataframe\">\n",
              "  <thead>\n",
              "    <tr style=\"text-align: right;\">\n",
              "      <th></th>\n",
              "      <th>Airline</th>\n",
              "      <th>AirportFrom</th>\n",
              "      <th>AirportTo</th>\n",
              "      <th>DayOfWeek</th>\n",
              "      <th>Time</th>\n",
              "      <th>Length</th>\n",
              "      <th>Delay</th>\n",
              "    </tr>\n",
              "  </thead>\n",
              "  <tbody>\n",
              "    <tr>\n",
              "      <th>3</th>\n",
              "      <td>AA</td>\n",
              "      <td>ORD</td>\n",
              "      <td>DFW</td>\n",
              "      <td>3</td>\n",
              "      <td>360</td>\n",
              "      <td>150</td>\n",
              "      <td>1</td>\n",
              "    </tr>\n",
              "    <tr>\n",
              "      <th>4</th>\n",
              "      <td>AA</td>\n",
              "      <td>SFO</td>\n",
              "      <td>DFW</td>\n",
              "      <td>3</td>\n",
              "      <td>360</td>\n",
              "      <td>215</td>\n",
              "      <td>0</td>\n",
              "    </tr>\n",
              "    <tr>\n",
              "      <th>5</th>\n",
              "      <td>UA</td>\n",
              "      <td>SFO</td>\n",
              "      <td>LAS</td>\n",
              "      <td>3</td>\n",
              "      <td>360</td>\n",
              "      <td>98</td>\n",
              "      <td>0</td>\n",
              "    </tr>\n",
              "    <tr>\n",
              "      <th>6</th>\n",
              "      <td>UA</td>\n",
              "      <td>LAX</td>\n",
              "      <td>SFO</td>\n",
              "      <td>3</td>\n",
              "      <td>360</td>\n",
              "      <td>89</td>\n",
              "      <td>0</td>\n",
              "    </tr>\n",
              "    <tr>\n",
              "      <th>7</th>\n",
              "      <td>WN</td>\n",
              "      <td>LAX</td>\n",
              "      <td>SFO</td>\n",
              "      <td>3</td>\n",
              "      <td>360</td>\n",
              "      <td>80</td>\n",
              "      <td>0</td>\n",
              "    </tr>\n",
              "  </tbody>\n",
              "</table>\n",
              "</div>\n",
              "      <button class=\"colab-df-convert\" onclick=\"convertToInteractive('df-6599b351-a8b7-4893-bd93-84e7c1818fb2')\"\n",
              "              title=\"Convert this dataframe to an interactive table.\"\n",
              "              style=\"display:none;\">\n",
              "        \n",
              "  <svg xmlns=\"http://www.w3.org/2000/svg\" height=\"24px\"viewBox=\"0 0 24 24\"\n",
              "       width=\"24px\">\n",
              "    <path d=\"M0 0h24v24H0V0z\" fill=\"none\"/>\n",
              "    <path d=\"M18.56 5.44l.94 2.06.94-2.06 2.06-.94-2.06-.94-.94-2.06-.94 2.06-2.06.94zm-11 1L8.5 8.5l.94-2.06 2.06-.94-2.06-.94L8.5 2.5l-.94 2.06-2.06.94zm10 10l.94 2.06.94-2.06 2.06-.94-2.06-.94-.94-2.06-.94 2.06-2.06.94z\"/><path d=\"M17.41 7.96l-1.37-1.37c-.4-.4-.92-.59-1.43-.59-.52 0-1.04.2-1.43.59L10.3 9.45l-7.72 7.72c-.78.78-.78 2.05 0 2.83L4 21.41c.39.39.9.59 1.41.59.51 0 1.02-.2 1.41-.59l7.78-7.78 2.81-2.81c.8-.78.8-2.07 0-2.86zM5.41 20L4 18.59l7.72-7.72 1.47 1.35L5.41 20z\"/>\n",
              "  </svg>\n",
              "      </button>\n",
              "      \n",
              "  <style>\n",
              "    .colab-df-container {\n",
              "      display:flex;\n",
              "      flex-wrap:wrap;\n",
              "      gap: 12px;\n",
              "    }\n",
              "\n",
              "    .colab-df-convert {\n",
              "      background-color: #E8F0FE;\n",
              "      border: none;\n",
              "      border-radius: 50%;\n",
              "      cursor: pointer;\n",
              "      display: none;\n",
              "      fill: #1967D2;\n",
              "      height: 32px;\n",
              "      padding: 0 0 0 0;\n",
              "      width: 32px;\n",
              "    }\n",
              "\n",
              "    .colab-df-convert:hover {\n",
              "      background-color: #E2EBFA;\n",
              "      box-shadow: 0px 1px 2px rgba(60, 64, 67, 0.3), 0px 1px 3px 1px rgba(60, 64, 67, 0.15);\n",
              "      fill: #174EA6;\n",
              "    }\n",
              "\n",
              "    [theme=dark] .colab-df-convert {\n",
              "      background-color: #3B4455;\n",
              "      fill: #D2E3FC;\n",
              "    }\n",
              "\n",
              "    [theme=dark] .colab-df-convert:hover {\n",
              "      background-color: #434B5C;\n",
              "      box-shadow: 0px 1px 3px 1px rgba(0, 0, 0, 0.15);\n",
              "      filter: drop-shadow(0px 1px 2px rgba(0, 0, 0, 0.3));\n",
              "      fill: #FFFFFF;\n",
              "    }\n",
              "  </style>\n",
              "\n",
              "      <script>\n",
              "        const buttonEl =\n",
              "          document.querySelector('#df-6599b351-a8b7-4893-bd93-84e7c1818fb2 button.colab-df-convert');\n",
              "        buttonEl.style.display =\n",
              "          google.colab.kernel.accessAllowed ? 'block' : 'none';\n",
              "\n",
              "        async function convertToInteractive(key) {\n",
              "          const element = document.querySelector('#df-6599b351-a8b7-4893-bd93-84e7c1818fb2');\n",
              "          const dataTable =\n",
              "            await google.colab.kernel.invokeFunction('convertToInteractive',\n",
              "                                                     [key], {});\n",
              "          if (!dataTable) return;\n",
              "\n",
              "          const docLinkHtml = 'Like what you see? Visit the ' +\n",
              "            '<a target=\"_blank\" href=https://colab.research.google.com/notebooks/data_table.ipynb>data table notebook</a>'\n",
              "            + ' to learn more about interactive tables.';\n",
              "          element.innerHTML = '';\n",
              "          dataTable['output_type'] = 'display_data';\n",
              "          await google.colab.output.renderOutput(dataTable, element);\n",
              "          const docLink = document.createElement('div');\n",
              "          docLink.innerHTML = docLinkHtml;\n",
              "          element.appendChild(docLink);\n",
              "        }\n",
              "      </script>\n",
              "    </div>\n",
              "  </div>\n",
              "  "
            ]
          },
          "metadata": {},
          "execution_count": 24
        }
      ]
    },
    {
      "cell_type": "code",
      "source": [
        "X = airlines.drop(columns = 'Delay')"
      ],
      "metadata": {
        "id": "O64xlqMxZAr6"
      },
      "execution_count": 25,
      "outputs": []
    },
    {
      "cell_type": "code",
      "source": [
        "y= airlines['Delay']"
      ],
      "metadata": {
        "id": "Ktwape-mZHmf"
      },
      "execution_count": 26,
      "outputs": []
    },
    {
      "cell_type": "code",
      "source": [
        "X_train, X_test, y_train, y_test = train_test_split(X, y, random_state=42) # Train test split \n"
      ],
      "metadata": {
        "id": "B3ksB_YTZMk9"
      },
      "execution_count": 27,
      "outputs": []
    },
    {
      "cell_type": "code",
      "source": [
        "#instantiate the selectors to for numeric and categorical data types\n",
        "num_selector = make_column_selector(dtype_include='number')\n",
        "cat_selector = make_column_selector(dtype_include='object')\n",
        "#select the numeric columns of each type\n",
        "num_columns = num_selector(X_train)\n",
        "cat_columns = cat_selector(X_train)\n",
        "#check our lists\n",
        "print('numeric columns are', num_columns)\n",
        "print('categorical columns are', cat_columns)"
      ],
      "metadata": {
        "colab": {
          "base_uri": "https://localhost:8080/"
        },
        "id": "YRsEglcfXnis",
        "outputId": "77079ae3-efff-4dd7-d3ab-3d7658be8c61"
      },
      "execution_count": 28,
      "outputs": [
        {
          "output_type": "stream",
          "name": "stdout",
          "text": [
            "numeric columns are ['DayOfWeek', 'Time', 'Length']\n",
            "categorical columns are ['Airline', 'AirportFrom', 'AirportTo']\n"
          ]
        }
      ]
    },
    {
      "cell_type": "code",
      "source": [
        "mean_imputer = SimpleImputer(strategy='mean')\n",
        "#Fit the imputer object on the numeric training data with .fit() \n",
        "#calculates the medians of the columns in the training set\n",
        "mean_imputer.fit(X_train[num_columns])\n",
        "#Use the median from the training data to fill the missing values in \n",
        "#the numeric columns of both the training and testing sets with .transform()\n",
        "X_train.loc[:, num_columns] = mean_imputer.transform(X_train[num_columns])\n",
        "X_test.loc[:, num_columns] = mean_imputer.transform(X_test[num_columns])\n",
        "X_train.isna().any() #check for missing\n"
      ],
      "metadata": {
        "colab": {
          "base_uri": "https://localhost:8080/"
        },
        "id": "KYJGTIDDYrKy",
        "outputId": "f31ba807-0ab1-4fd2-e851-8056f73de0a7"
      },
      "execution_count": 29,
      "outputs": [
        {
          "output_type": "execute_result",
          "data": {
            "text/plain": [
              "Airline        False\n",
              "AirportFrom    False\n",
              "AirportTo      False\n",
              "DayOfWeek      False\n",
              "Time           False\n",
              "Length         False\n",
              "dtype: bool"
            ]
          },
          "metadata": {},
          "execution_count": 29
        }
      ]
    },
    {
      "cell_type": "code",
      "source": [
        "#instantiate one hot encoder\n",
        "ohe = OneHotEncoder(sparse=False, handle_unknown='ignore')\n",
        "#fit the OneHotEncoder on the training data\n",
        "ohe.fit(X_train[cat_columns])\n",
        "#transform both the training and the testing data\n",
        "train_ohe = ohe.transform(X_train[cat_columns])\n",
        "test_ohe = ohe.transform(X_test[cat_columns])\n",
        "train_ohe"
      ],
      "metadata": {
        "colab": {
          "base_uri": "https://localhost:8080/"
        },
        "id": "IdzqWy-EZhRO",
        "outputId": "adc05802-5afd-41e3-d81a-006a41eaabff"
      },
      "execution_count": 30,
      "outputs": [
        {
          "output_type": "execute_result",
          "data": {
            "text/plain": [
              "array([[0., 0., 0., ..., 0., 0., 1.],\n",
              "       [0., 1., 0., ..., 0., 1., 0.],\n",
              "       [1., 0., 0., ..., 0., 0., 0.],\n",
              "       ...,\n",
              "       [0., 0., 0., ..., 1., 0., 0.],\n",
              "       [0., 1., 0., ..., 0., 0., 0.],\n",
              "       [0., 0., 1., ..., 0., 1., 0.]])"
            ]
          },
          "metadata": {},
          "execution_count": 30
        }
      ]
    },
    {
      "cell_type": "code",
      "source": [
        "ohe_column_names = ohe.get_feature_names_out(X_train[cat_columns].columns) #get column names\n",
        "train_ohe = pd.DataFrame(train_ohe, columns=ohe_column_names)\n",
        "test_ohe = pd.DataFrame(test_ohe, columns=ohe_column_names)\n",
        "train_ohe"
      ],
      "metadata": {
        "colab": {
          "base_uri": "https://localhost:8080/",
          "height": 423
        },
        "id": "gCtBCbjVZlgL",
        "outputId": "44ddd931-f98e-4004-a289-768907210386"
      },
      "execution_count": 31,
      "outputs": [
        {
          "output_type": "execute_result",
          "data": {
            "text/plain": [
              "      Airline_AA  Airline_DL  Airline_OO  Airline_UA  Airline_WN  \\\n",
              "0            0.0         0.0         0.0         0.0         1.0   \n",
              "1            0.0         1.0         0.0         0.0         0.0   \n",
              "2            1.0         0.0         0.0         0.0         0.0   \n",
              "3            0.0         0.0         0.0         1.0         0.0   \n",
              "4            0.0         1.0         0.0         0.0         0.0   \n",
              "...          ...         ...         ...         ...         ...   \n",
              "4849         0.0         0.0         0.0         1.0         0.0   \n",
              "4850         0.0         0.0         0.0         0.0         1.0   \n",
              "4851         0.0         0.0         0.0         1.0         0.0   \n",
              "4852         0.0         1.0         0.0         0.0         0.0   \n",
              "4853         0.0         0.0         1.0         0.0         0.0   \n",
              "\n",
              "      AirportFrom_ATL  AirportFrom_DEN  AirportFrom_LAX  AirportFrom_ORD  \\\n",
              "0                 0.0              0.0              1.0              0.0   \n",
              "1                 1.0              0.0              0.0              0.0   \n",
              "2                 0.0              0.0              0.0              1.0   \n",
              "3                 0.0              0.0              0.0              0.0   \n",
              "4                 1.0              0.0              0.0              0.0   \n",
              "...               ...              ...              ...              ...   \n",
              "4849              0.0              0.0              0.0              0.0   \n",
              "4850              0.0              1.0              0.0              0.0   \n",
              "4851              0.0              0.0              0.0              1.0   \n",
              "4852              0.0              0.0              1.0              0.0   \n",
              "4853              0.0              0.0              1.0              0.0   \n",
              "\n",
              "      AirportFrom_SFO  AirportTo_DFW  AirportTo_LAS  AirportTo_LAX  \\\n",
              "0                 0.0            0.0            0.0            0.0   \n",
              "1                 0.0            0.0            0.0            0.0   \n",
              "2                 0.0            1.0            0.0            0.0   \n",
              "3                 1.0            0.0            0.0            1.0   \n",
              "4                 0.0            0.0            0.0            1.0   \n",
              "...               ...            ...            ...            ...   \n",
              "4849              1.0            0.0            0.0            1.0   \n",
              "4850              0.0            0.0            1.0            0.0   \n",
              "4851              0.0            0.0            0.0            1.0   \n",
              "4852              0.0            0.0            1.0            0.0   \n",
              "4853              0.0            0.0            0.0            0.0   \n",
              "\n",
              "      AirportTo_SAN  AirportTo_SFO  \n",
              "0               0.0            1.0  \n",
              "1               1.0            0.0  \n",
              "2               0.0            0.0  \n",
              "3               0.0            0.0  \n",
              "4               0.0            0.0  \n",
              "...             ...            ...  \n",
              "4849            0.0            0.0  \n",
              "4850            0.0            0.0  \n",
              "4851            0.0            0.0  \n",
              "4852            0.0            0.0  \n",
              "4853            1.0            0.0  \n",
              "\n",
              "[4854 rows x 15 columns]"
            ],
            "text/html": [
              "\n",
              "  <div id=\"df-052db163-28fd-460b-b9ea-5c95d187fc25\">\n",
              "    <div class=\"colab-df-container\">\n",
              "      <div>\n",
              "<style scoped>\n",
              "    .dataframe tbody tr th:only-of-type {\n",
              "        vertical-align: middle;\n",
              "    }\n",
              "\n",
              "    .dataframe tbody tr th {\n",
              "        vertical-align: top;\n",
              "    }\n",
              "\n",
              "    .dataframe thead th {\n",
              "        text-align: right;\n",
              "    }\n",
              "</style>\n",
              "<table border=\"1\" class=\"dataframe\">\n",
              "  <thead>\n",
              "    <tr style=\"text-align: right;\">\n",
              "      <th></th>\n",
              "      <th>Airline_AA</th>\n",
              "      <th>Airline_DL</th>\n",
              "      <th>Airline_OO</th>\n",
              "      <th>Airline_UA</th>\n",
              "      <th>Airline_WN</th>\n",
              "      <th>AirportFrom_ATL</th>\n",
              "      <th>AirportFrom_DEN</th>\n",
              "      <th>AirportFrom_LAX</th>\n",
              "      <th>AirportFrom_ORD</th>\n",
              "      <th>AirportFrom_SFO</th>\n",
              "      <th>AirportTo_DFW</th>\n",
              "      <th>AirportTo_LAS</th>\n",
              "      <th>AirportTo_LAX</th>\n",
              "      <th>AirportTo_SAN</th>\n",
              "      <th>AirportTo_SFO</th>\n",
              "    </tr>\n",
              "  </thead>\n",
              "  <tbody>\n",
              "    <tr>\n",
              "      <th>0</th>\n",
              "      <td>0.0</td>\n",
              "      <td>0.0</td>\n",
              "      <td>0.0</td>\n",
              "      <td>0.0</td>\n",
              "      <td>1.0</td>\n",
              "      <td>0.0</td>\n",
              "      <td>0.0</td>\n",
              "      <td>1.0</td>\n",
              "      <td>0.0</td>\n",
              "      <td>0.0</td>\n",
              "      <td>0.0</td>\n",
              "      <td>0.0</td>\n",
              "      <td>0.0</td>\n",
              "      <td>0.0</td>\n",
              "      <td>1.0</td>\n",
              "    </tr>\n",
              "    <tr>\n",
              "      <th>1</th>\n",
              "      <td>0.0</td>\n",
              "      <td>1.0</td>\n",
              "      <td>0.0</td>\n",
              "      <td>0.0</td>\n",
              "      <td>0.0</td>\n",
              "      <td>1.0</td>\n",
              "      <td>0.0</td>\n",
              "      <td>0.0</td>\n",
              "      <td>0.0</td>\n",
              "      <td>0.0</td>\n",
              "      <td>0.0</td>\n",
              "      <td>0.0</td>\n",
              "      <td>0.0</td>\n",
              "      <td>1.0</td>\n",
              "      <td>0.0</td>\n",
              "    </tr>\n",
              "    <tr>\n",
              "      <th>2</th>\n",
              "      <td>1.0</td>\n",
              "      <td>0.0</td>\n",
              "      <td>0.0</td>\n",
              "      <td>0.0</td>\n",
              "      <td>0.0</td>\n",
              "      <td>0.0</td>\n",
              "      <td>0.0</td>\n",
              "      <td>0.0</td>\n",
              "      <td>1.0</td>\n",
              "      <td>0.0</td>\n",
              "      <td>1.0</td>\n",
              "      <td>0.0</td>\n",
              "      <td>0.0</td>\n",
              "      <td>0.0</td>\n",
              "      <td>0.0</td>\n",
              "    </tr>\n",
              "    <tr>\n",
              "      <th>3</th>\n",
              "      <td>0.0</td>\n",
              "      <td>0.0</td>\n",
              "      <td>0.0</td>\n",
              "      <td>1.0</td>\n",
              "      <td>0.0</td>\n",
              "      <td>0.0</td>\n",
              "      <td>0.0</td>\n",
              "      <td>0.0</td>\n",
              "      <td>0.0</td>\n",
              "      <td>1.0</td>\n",
              "      <td>0.0</td>\n",
              "      <td>0.0</td>\n",
              "      <td>1.0</td>\n",
              "      <td>0.0</td>\n",
              "      <td>0.0</td>\n",
              "    </tr>\n",
              "    <tr>\n",
              "      <th>4</th>\n",
              "      <td>0.0</td>\n",
              "      <td>1.0</td>\n",
              "      <td>0.0</td>\n",
              "      <td>0.0</td>\n",
              "      <td>0.0</td>\n",
              "      <td>1.0</td>\n",
              "      <td>0.0</td>\n",
              "      <td>0.0</td>\n",
              "      <td>0.0</td>\n",
              "      <td>0.0</td>\n",
              "      <td>0.0</td>\n",
              "      <td>0.0</td>\n",
              "      <td>1.0</td>\n",
              "      <td>0.0</td>\n",
              "      <td>0.0</td>\n",
              "    </tr>\n",
              "    <tr>\n",
              "      <th>...</th>\n",
              "      <td>...</td>\n",
              "      <td>...</td>\n",
              "      <td>...</td>\n",
              "      <td>...</td>\n",
              "      <td>...</td>\n",
              "      <td>...</td>\n",
              "      <td>...</td>\n",
              "      <td>...</td>\n",
              "      <td>...</td>\n",
              "      <td>...</td>\n",
              "      <td>...</td>\n",
              "      <td>...</td>\n",
              "      <td>...</td>\n",
              "      <td>...</td>\n",
              "      <td>...</td>\n",
              "    </tr>\n",
              "    <tr>\n",
              "      <th>4849</th>\n",
              "      <td>0.0</td>\n",
              "      <td>0.0</td>\n",
              "      <td>0.0</td>\n",
              "      <td>1.0</td>\n",
              "      <td>0.0</td>\n",
              "      <td>0.0</td>\n",
              "      <td>0.0</td>\n",
              "      <td>0.0</td>\n",
              "      <td>0.0</td>\n",
              "      <td>1.0</td>\n",
              "      <td>0.0</td>\n",
              "      <td>0.0</td>\n",
              "      <td>1.0</td>\n",
              "      <td>0.0</td>\n",
              "      <td>0.0</td>\n",
              "    </tr>\n",
              "    <tr>\n",
              "      <th>4850</th>\n",
              "      <td>0.0</td>\n",
              "      <td>0.0</td>\n",
              "      <td>0.0</td>\n",
              "      <td>0.0</td>\n",
              "      <td>1.0</td>\n",
              "      <td>0.0</td>\n",
              "      <td>1.0</td>\n",
              "      <td>0.0</td>\n",
              "      <td>0.0</td>\n",
              "      <td>0.0</td>\n",
              "      <td>0.0</td>\n",
              "      <td>1.0</td>\n",
              "      <td>0.0</td>\n",
              "      <td>0.0</td>\n",
              "      <td>0.0</td>\n",
              "    </tr>\n",
              "    <tr>\n",
              "      <th>4851</th>\n",
              "      <td>0.0</td>\n",
              "      <td>0.0</td>\n",
              "      <td>0.0</td>\n",
              "      <td>1.0</td>\n",
              "      <td>0.0</td>\n",
              "      <td>0.0</td>\n",
              "      <td>0.0</td>\n",
              "      <td>0.0</td>\n",
              "      <td>1.0</td>\n",
              "      <td>0.0</td>\n",
              "      <td>0.0</td>\n",
              "      <td>0.0</td>\n",
              "      <td>1.0</td>\n",
              "      <td>0.0</td>\n",
              "      <td>0.0</td>\n",
              "    </tr>\n",
              "    <tr>\n",
              "      <th>4852</th>\n",
              "      <td>0.0</td>\n",
              "      <td>1.0</td>\n",
              "      <td>0.0</td>\n",
              "      <td>0.0</td>\n",
              "      <td>0.0</td>\n",
              "      <td>0.0</td>\n",
              "      <td>0.0</td>\n",
              "      <td>1.0</td>\n",
              "      <td>0.0</td>\n",
              "      <td>0.0</td>\n",
              "      <td>0.0</td>\n",
              "      <td>1.0</td>\n",
              "      <td>0.0</td>\n",
              "      <td>0.0</td>\n",
              "      <td>0.0</td>\n",
              "    </tr>\n",
              "    <tr>\n",
              "      <th>4853</th>\n",
              "      <td>0.0</td>\n",
              "      <td>0.0</td>\n",
              "      <td>1.0</td>\n",
              "      <td>0.0</td>\n",
              "      <td>0.0</td>\n",
              "      <td>0.0</td>\n",
              "      <td>0.0</td>\n",
              "      <td>1.0</td>\n",
              "      <td>0.0</td>\n",
              "      <td>0.0</td>\n",
              "      <td>0.0</td>\n",
              "      <td>0.0</td>\n",
              "      <td>0.0</td>\n",
              "      <td>1.0</td>\n",
              "      <td>0.0</td>\n",
              "    </tr>\n",
              "  </tbody>\n",
              "</table>\n",
              "<p>4854 rows × 15 columns</p>\n",
              "</div>\n",
              "      <button class=\"colab-df-convert\" onclick=\"convertToInteractive('df-052db163-28fd-460b-b9ea-5c95d187fc25')\"\n",
              "              title=\"Convert this dataframe to an interactive table.\"\n",
              "              style=\"display:none;\">\n",
              "        \n",
              "  <svg xmlns=\"http://www.w3.org/2000/svg\" height=\"24px\"viewBox=\"0 0 24 24\"\n",
              "       width=\"24px\">\n",
              "    <path d=\"M0 0h24v24H0V0z\" fill=\"none\"/>\n",
              "    <path d=\"M18.56 5.44l.94 2.06.94-2.06 2.06-.94-2.06-.94-.94-2.06-.94 2.06-2.06.94zm-11 1L8.5 8.5l.94-2.06 2.06-.94-2.06-.94L8.5 2.5l-.94 2.06-2.06.94zm10 10l.94 2.06.94-2.06 2.06-.94-2.06-.94-.94-2.06-.94 2.06-2.06.94z\"/><path d=\"M17.41 7.96l-1.37-1.37c-.4-.4-.92-.59-1.43-.59-.52 0-1.04.2-1.43.59L10.3 9.45l-7.72 7.72c-.78.78-.78 2.05 0 2.83L4 21.41c.39.39.9.59 1.41.59.51 0 1.02-.2 1.41-.59l7.78-7.78 2.81-2.81c.8-.78.8-2.07 0-2.86zM5.41 20L4 18.59l7.72-7.72 1.47 1.35L5.41 20z\"/>\n",
              "  </svg>\n",
              "      </button>\n",
              "      \n",
              "  <style>\n",
              "    .colab-df-container {\n",
              "      display:flex;\n",
              "      flex-wrap:wrap;\n",
              "      gap: 12px;\n",
              "    }\n",
              "\n",
              "    .colab-df-convert {\n",
              "      background-color: #E8F0FE;\n",
              "      border: none;\n",
              "      border-radius: 50%;\n",
              "      cursor: pointer;\n",
              "      display: none;\n",
              "      fill: #1967D2;\n",
              "      height: 32px;\n",
              "      padding: 0 0 0 0;\n",
              "      width: 32px;\n",
              "    }\n",
              "\n",
              "    .colab-df-convert:hover {\n",
              "      background-color: #E2EBFA;\n",
              "      box-shadow: 0px 1px 2px rgba(60, 64, 67, 0.3), 0px 1px 3px 1px rgba(60, 64, 67, 0.15);\n",
              "      fill: #174EA6;\n",
              "    }\n",
              "\n",
              "    [theme=dark] .colab-df-convert {\n",
              "      background-color: #3B4455;\n",
              "      fill: #D2E3FC;\n",
              "    }\n",
              "\n",
              "    [theme=dark] .colab-df-convert:hover {\n",
              "      background-color: #434B5C;\n",
              "      box-shadow: 0px 1px 3px 1px rgba(0, 0, 0, 0.15);\n",
              "      filter: drop-shadow(0px 1px 2px rgba(0, 0, 0, 0.3));\n",
              "      fill: #FFFFFF;\n",
              "    }\n",
              "  </style>\n",
              "\n",
              "      <script>\n",
              "        const buttonEl =\n",
              "          document.querySelector('#df-052db163-28fd-460b-b9ea-5c95d187fc25 button.colab-df-convert');\n",
              "        buttonEl.style.display =\n",
              "          google.colab.kernel.accessAllowed ? 'block' : 'none';\n",
              "\n",
              "        async function convertToInteractive(key) {\n",
              "          const element = document.querySelector('#df-052db163-28fd-460b-b9ea-5c95d187fc25');\n",
              "          const dataTable =\n",
              "            await google.colab.kernel.invokeFunction('convertToInteractive',\n",
              "                                                     [key], {});\n",
              "          if (!dataTable) return;\n",
              "\n",
              "          const docLinkHtml = 'Like what you see? Visit the ' +\n",
              "            '<a target=\"_blank\" href=https://colab.research.google.com/notebooks/data_table.ipynb>data table notebook</a>'\n",
              "            + ' to learn more about interactive tables.';\n",
              "          element.innerHTML = '';\n",
              "          dataTable['output_type'] = 'display_data';\n",
              "          await google.colab.output.renderOutput(dataTable, element);\n",
              "          const docLink = document.createElement('div');\n",
              "          docLink.innerHTML = docLinkHtml;\n",
              "          element.appendChild(docLink);\n",
              "        }\n",
              "      </script>\n",
              "    </div>\n",
              "  </div>\n",
              "  "
            ]
          },
          "metadata": {},
          "execution_count": 31
        }
      ]
    },
    {
      "cell_type": "code",
      "source": [
        "# instantiate scaler\n",
        "scaler = StandardScaler()\n",
        "# fit scaler on training data\n",
        "scaler.fit(X_train[num_columns])\n",
        "\n",
        "# transform training data\n",
        "train_scaled = scaler.transform(X_train[num_columns])\n",
        "# transform testing data\n",
        "test_scaled = scaler.transform(X_test[num_columns])"
      ],
      "metadata": {
        "id": "qoYTIkg5ZsvC"
      },
      "execution_count": 32,
      "outputs": []
    },
    {
      "cell_type": "code",
      "source": [
        "# create a numeric selector\n",
        "num_selector = make_column_selector(dtype_include='number')\n",
        "# isolate the numeric columns\n",
        "train_nums = X_train[num_columns].reset_index(drop=True)\n",
        "test_nums = X_test[num_columns].reset_index(drop=True)\n",
        "# re-combine the train and test sets\n",
        "X_train_processed = pd.concat([train_nums, train_ohe], axis=1)\n",
        "X_test_processed = pd.concat([test_nums, test_ohe], axis=1)"
      ],
      "metadata": {
        "id": "kuzJLY5ZZv3t"
      },
      "execution_count": 33,
      "outputs": []
    },
    {
      "cell_type": "code",
      "source": [
        "X_test_processed"
      ],
      "metadata": {
        "colab": {
          "base_uri": "https://localhost:8080/",
          "height": 423
        },
        "id": "iSGJ6AWaZxiW",
        "outputId": "a87a4f4d-560d-47a8-bff4-9647db7d4cf6"
      },
      "execution_count": 34,
      "outputs": [
        {
          "output_type": "execute_result",
          "data": {
            "text/plain": [
              "      DayOfWeek    Time  Length  Airline_AA  Airline_DL  Airline_OO  \\\n",
              "0           1.0  1215.0   309.0         0.0         1.0         0.0   \n",
              "1           7.0   960.0   306.0         0.0         1.0         0.0   \n",
              "2           5.0  1050.0   292.0         0.0         0.0         0.0   \n",
              "3           3.0  1298.0    84.0         0.0         0.0         0.0   \n",
              "4           2.0   732.0   158.0         0.0         0.0         0.0   \n",
              "...         ...     ...     ...         ...         ...         ...   \n",
              "1614        3.0   885.0   145.0         0.0         1.0         0.0   \n",
              "1615        2.0   540.0   190.0         1.0         0.0         0.0   \n",
              "1616        3.0   892.0    93.0         0.0         0.0         0.0   \n",
              "1617        7.0   695.0   120.0         0.0         0.0         0.0   \n",
              "1618        5.0  1358.0    81.0         0.0         0.0         0.0   \n",
              "\n",
              "      Airline_UA  Airline_WN  AirportFrom_ATL  AirportFrom_DEN  \\\n",
              "0            0.0         0.0              1.0              0.0   \n",
              "1            0.0         0.0              1.0              0.0   \n",
              "2            1.0         0.0              0.0              0.0   \n",
              "3            1.0         0.0              0.0              0.0   \n",
              "4            1.0         0.0              0.0              0.0   \n",
              "...          ...         ...              ...              ...   \n",
              "1614         0.0         0.0              1.0              0.0   \n",
              "1615         0.0         0.0              0.0              0.0   \n",
              "1616         1.0         0.0              0.0              0.0   \n",
              "1617         0.0         1.0              0.0              1.0   \n",
              "1618         1.0         0.0              0.0              0.0   \n",
              "\n",
              "      AirportFrom_LAX  AirportFrom_ORD  AirportFrom_SFO  AirportTo_DFW  \\\n",
              "0                 0.0              0.0              0.0            0.0   \n",
              "1                 0.0              0.0              0.0            0.0   \n",
              "2                 0.0              1.0              0.0            0.0   \n",
              "3                 1.0              0.0              0.0            0.0   \n",
              "4                 0.0              1.0              0.0            1.0   \n",
              "...               ...              ...              ...            ...   \n",
              "1614              0.0              0.0              0.0            1.0   \n",
              "1615              1.0              0.0              0.0            1.0   \n",
              "1616              0.0              0.0              1.0            0.0   \n",
              "1617              0.0              0.0              0.0            0.0   \n",
              "1618              1.0              0.0              0.0            0.0   \n",
              "\n",
              "      AirportTo_LAS  AirportTo_LAX  AirportTo_SAN  AirportTo_SFO  \n",
              "0               0.0            1.0            0.0            0.0  \n",
              "1               0.0            1.0            0.0            0.0  \n",
              "2               0.0            0.0            0.0            1.0  \n",
              "3               0.0            0.0            0.0            1.0  \n",
              "4               0.0            0.0            0.0            0.0  \n",
              "...             ...            ...            ...            ...  \n",
              "1614            0.0            0.0            0.0            0.0  \n",
              "1615            0.0            0.0            0.0            0.0  \n",
              "1616            0.0            1.0            0.0            0.0  \n",
              "1617            1.0            0.0            0.0            0.0  \n",
              "1618            1.0            0.0            0.0            0.0  \n",
              "\n",
              "[1619 rows x 18 columns]"
            ],
            "text/html": [
              "\n",
              "  <div id=\"df-aa22471b-2c0a-49b6-94f7-ccec473e7d98\">\n",
              "    <div class=\"colab-df-container\">\n",
              "      <div>\n",
              "<style scoped>\n",
              "    .dataframe tbody tr th:only-of-type {\n",
              "        vertical-align: middle;\n",
              "    }\n",
              "\n",
              "    .dataframe tbody tr th {\n",
              "        vertical-align: top;\n",
              "    }\n",
              "\n",
              "    .dataframe thead th {\n",
              "        text-align: right;\n",
              "    }\n",
              "</style>\n",
              "<table border=\"1\" class=\"dataframe\">\n",
              "  <thead>\n",
              "    <tr style=\"text-align: right;\">\n",
              "      <th></th>\n",
              "      <th>DayOfWeek</th>\n",
              "      <th>Time</th>\n",
              "      <th>Length</th>\n",
              "      <th>Airline_AA</th>\n",
              "      <th>Airline_DL</th>\n",
              "      <th>Airline_OO</th>\n",
              "      <th>Airline_UA</th>\n",
              "      <th>Airline_WN</th>\n",
              "      <th>AirportFrom_ATL</th>\n",
              "      <th>AirportFrom_DEN</th>\n",
              "      <th>AirportFrom_LAX</th>\n",
              "      <th>AirportFrom_ORD</th>\n",
              "      <th>AirportFrom_SFO</th>\n",
              "      <th>AirportTo_DFW</th>\n",
              "      <th>AirportTo_LAS</th>\n",
              "      <th>AirportTo_LAX</th>\n",
              "      <th>AirportTo_SAN</th>\n",
              "      <th>AirportTo_SFO</th>\n",
              "    </tr>\n",
              "  </thead>\n",
              "  <tbody>\n",
              "    <tr>\n",
              "      <th>0</th>\n",
              "      <td>1.0</td>\n",
              "      <td>1215.0</td>\n",
              "      <td>309.0</td>\n",
              "      <td>0.0</td>\n",
              "      <td>1.0</td>\n",
              "      <td>0.0</td>\n",
              "      <td>0.0</td>\n",
              "      <td>0.0</td>\n",
              "      <td>1.0</td>\n",
              "      <td>0.0</td>\n",
              "      <td>0.0</td>\n",
              "      <td>0.0</td>\n",
              "      <td>0.0</td>\n",
              "      <td>0.0</td>\n",
              "      <td>0.0</td>\n",
              "      <td>1.0</td>\n",
              "      <td>0.0</td>\n",
              "      <td>0.0</td>\n",
              "    </tr>\n",
              "    <tr>\n",
              "      <th>1</th>\n",
              "      <td>7.0</td>\n",
              "      <td>960.0</td>\n",
              "      <td>306.0</td>\n",
              "      <td>0.0</td>\n",
              "      <td>1.0</td>\n",
              "      <td>0.0</td>\n",
              "      <td>0.0</td>\n",
              "      <td>0.0</td>\n",
              "      <td>1.0</td>\n",
              "      <td>0.0</td>\n",
              "      <td>0.0</td>\n",
              "      <td>0.0</td>\n",
              "      <td>0.0</td>\n",
              "      <td>0.0</td>\n",
              "      <td>0.0</td>\n",
              "      <td>1.0</td>\n",
              "      <td>0.0</td>\n",
              "      <td>0.0</td>\n",
              "    </tr>\n",
              "    <tr>\n",
              "      <th>2</th>\n",
              "      <td>5.0</td>\n",
              "      <td>1050.0</td>\n",
              "      <td>292.0</td>\n",
              "      <td>0.0</td>\n",
              "      <td>0.0</td>\n",
              "      <td>0.0</td>\n",
              "      <td>1.0</td>\n",
              "      <td>0.0</td>\n",
              "      <td>0.0</td>\n",
              "      <td>0.0</td>\n",
              "      <td>0.0</td>\n",
              "      <td>1.0</td>\n",
              "      <td>0.0</td>\n",
              "      <td>0.0</td>\n",
              "      <td>0.0</td>\n",
              "      <td>0.0</td>\n",
              "      <td>0.0</td>\n",
              "      <td>1.0</td>\n",
              "    </tr>\n",
              "    <tr>\n",
              "      <th>3</th>\n",
              "      <td>3.0</td>\n",
              "      <td>1298.0</td>\n",
              "      <td>84.0</td>\n",
              "      <td>0.0</td>\n",
              "      <td>0.0</td>\n",
              "      <td>0.0</td>\n",
              "      <td>1.0</td>\n",
              "      <td>0.0</td>\n",
              "      <td>0.0</td>\n",
              "      <td>0.0</td>\n",
              "      <td>1.0</td>\n",
              "      <td>0.0</td>\n",
              "      <td>0.0</td>\n",
              "      <td>0.0</td>\n",
              "      <td>0.0</td>\n",
              "      <td>0.0</td>\n",
              "      <td>0.0</td>\n",
              "      <td>1.0</td>\n",
              "    </tr>\n",
              "    <tr>\n",
              "      <th>4</th>\n",
              "      <td>2.0</td>\n",
              "      <td>732.0</td>\n",
              "      <td>158.0</td>\n",
              "      <td>0.0</td>\n",
              "      <td>0.0</td>\n",
              "      <td>0.0</td>\n",
              "      <td>1.0</td>\n",
              "      <td>0.0</td>\n",
              "      <td>0.0</td>\n",
              "      <td>0.0</td>\n",
              "      <td>0.0</td>\n",
              "      <td>1.0</td>\n",
              "      <td>0.0</td>\n",
              "      <td>1.0</td>\n",
              "      <td>0.0</td>\n",
              "      <td>0.0</td>\n",
              "      <td>0.0</td>\n",
              "      <td>0.0</td>\n",
              "    </tr>\n",
              "    <tr>\n",
              "      <th>...</th>\n",
              "      <td>...</td>\n",
              "      <td>...</td>\n",
              "      <td>...</td>\n",
              "      <td>...</td>\n",
              "      <td>...</td>\n",
              "      <td>...</td>\n",
              "      <td>...</td>\n",
              "      <td>...</td>\n",
              "      <td>...</td>\n",
              "      <td>...</td>\n",
              "      <td>...</td>\n",
              "      <td>...</td>\n",
              "      <td>...</td>\n",
              "      <td>...</td>\n",
              "      <td>...</td>\n",
              "      <td>...</td>\n",
              "      <td>...</td>\n",
              "      <td>...</td>\n",
              "    </tr>\n",
              "    <tr>\n",
              "      <th>1614</th>\n",
              "      <td>3.0</td>\n",
              "      <td>885.0</td>\n",
              "      <td>145.0</td>\n",
              "      <td>0.0</td>\n",
              "      <td>1.0</td>\n",
              "      <td>0.0</td>\n",
              "      <td>0.0</td>\n",
              "      <td>0.0</td>\n",
              "      <td>1.0</td>\n",
              "      <td>0.0</td>\n",
              "      <td>0.0</td>\n",
              "      <td>0.0</td>\n",
              "      <td>0.0</td>\n",
              "      <td>1.0</td>\n",
              "      <td>0.0</td>\n",
              "      <td>0.0</td>\n",
              "      <td>0.0</td>\n",
              "      <td>0.0</td>\n",
              "    </tr>\n",
              "    <tr>\n",
              "      <th>1615</th>\n",
              "      <td>2.0</td>\n",
              "      <td>540.0</td>\n",
              "      <td>190.0</td>\n",
              "      <td>1.0</td>\n",
              "      <td>0.0</td>\n",
              "      <td>0.0</td>\n",
              "      <td>0.0</td>\n",
              "      <td>0.0</td>\n",
              "      <td>0.0</td>\n",
              "      <td>0.0</td>\n",
              "      <td>1.0</td>\n",
              "      <td>0.0</td>\n",
              "      <td>0.0</td>\n",
              "      <td>1.0</td>\n",
              "      <td>0.0</td>\n",
              "      <td>0.0</td>\n",
              "      <td>0.0</td>\n",
              "      <td>0.0</td>\n",
              "    </tr>\n",
              "    <tr>\n",
              "      <th>1616</th>\n",
              "      <td>3.0</td>\n",
              "      <td>892.0</td>\n",
              "      <td>93.0</td>\n",
              "      <td>0.0</td>\n",
              "      <td>0.0</td>\n",
              "      <td>0.0</td>\n",
              "      <td>1.0</td>\n",
              "      <td>0.0</td>\n",
              "      <td>0.0</td>\n",
              "      <td>0.0</td>\n",
              "      <td>0.0</td>\n",
              "      <td>0.0</td>\n",
              "      <td>1.0</td>\n",
              "      <td>0.0</td>\n",
              "      <td>0.0</td>\n",
              "      <td>1.0</td>\n",
              "      <td>0.0</td>\n",
              "      <td>0.0</td>\n",
              "    </tr>\n",
              "    <tr>\n",
              "      <th>1617</th>\n",
              "      <td>7.0</td>\n",
              "      <td>695.0</td>\n",
              "      <td>120.0</td>\n",
              "      <td>0.0</td>\n",
              "      <td>0.0</td>\n",
              "      <td>0.0</td>\n",
              "      <td>0.0</td>\n",
              "      <td>1.0</td>\n",
              "      <td>0.0</td>\n",
              "      <td>1.0</td>\n",
              "      <td>0.0</td>\n",
              "      <td>0.0</td>\n",
              "      <td>0.0</td>\n",
              "      <td>0.0</td>\n",
              "      <td>1.0</td>\n",
              "      <td>0.0</td>\n",
              "      <td>0.0</td>\n",
              "      <td>0.0</td>\n",
              "    </tr>\n",
              "    <tr>\n",
              "      <th>1618</th>\n",
              "      <td>5.0</td>\n",
              "      <td>1358.0</td>\n",
              "      <td>81.0</td>\n",
              "      <td>0.0</td>\n",
              "      <td>0.0</td>\n",
              "      <td>0.0</td>\n",
              "      <td>1.0</td>\n",
              "      <td>0.0</td>\n",
              "      <td>0.0</td>\n",
              "      <td>0.0</td>\n",
              "      <td>1.0</td>\n",
              "      <td>0.0</td>\n",
              "      <td>0.0</td>\n",
              "      <td>0.0</td>\n",
              "      <td>1.0</td>\n",
              "      <td>0.0</td>\n",
              "      <td>0.0</td>\n",
              "      <td>0.0</td>\n",
              "    </tr>\n",
              "  </tbody>\n",
              "</table>\n",
              "<p>1619 rows × 18 columns</p>\n",
              "</div>\n",
              "      <button class=\"colab-df-convert\" onclick=\"convertToInteractive('df-aa22471b-2c0a-49b6-94f7-ccec473e7d98')\"\n",
              "              title=\"Convert this dataframe to an interactive table.\"\n",
              "              style=\"display:none;\">\n",
              "        \n",
              "  <svg xmlns=\"http://www.w3.org/2000/svg\" height=\"24px\"viewBox=\"0 0 24 24\"\n",
              "       width=\"24px\">\n",
              "    <path d=\"M0 0h24v24H0V0z\" fill=\"none\"/>\n",
              "    <path d=\"M18.56 5.44l.94 2.06.94-2.06 2.06-.94-2.06-.94-.94-2.06-.94 2.06-2.06.94zm-11 1L8.5 8.5l.94-2.06 2.06-.94-2.06-.94L8.5 2.5l-.94 2.06-2.06.94zm10 10l.94 2.06.94-2.06 2.06-.94-2.06-.94-.94-2.06-.94 2.06-2.06.94z\"/><path d=\"M17.41 7.96l-1.37-1.37c-.4-.4-.92-.59-1.43-.59-.52 0-1.04.2-1.43.59L10.3 9.45l-7.72 7.72c-.78.78-.78 2.05 0 2.83L4 21.41c.39.39.9.59 1.41.59.51 0 1.02-.2 1.41-.59l7.78-7.78 2.81-2.81c.8-.78.8-2.07 0-2.86zM5.41 20L4 18.59l7.72-7.72 1.47 1.35L5.41 20z\"/>\n",
              "  </svg>\n",
              "      </button>\n",
              "      \n",
              "  <style>\n",
              "    .colab-df-container {\n",
              "      display:flex;\n",
              "      flex-wrap:wrap;\n",
              "      gap: 12px;\n",
              "    }\n",
              "\n",
              "    .colab-df-convert {\n",
              "      background-color: #E8F0FE;\n",
              "      border: none;\n",
              "      border-radius: 50%;\n",
              "      cursor: pointer;\n",
              "      display: none;\n",
              "      fill: #1967D2;\n",
              "      height: 32px;\n",
              "      padding: 0 0 0 0;\n",
              "      width: 32px;\n",
              "    }\n",
              "\n",
              "    .colab-df-convert:hover {\n",
              "      background-color: #E2EBFA;\n",
              "      box-shadow: 0px 1px 2px rgba(60, 64, 67, 0.3), 0px 1px 3px 1px rgba(60, 64, 67, 0.15);\n",
              "      fill: #174EA6;\n",
              "    }\n",
              "\n",
              "    [theme=dark] .colab-df-convert {\n",
              "      background-color: #3B4455;\n",
              "      fill: #D2E3FC;\n",
              "    }\n",
              "\n",
              "    [theme=dark] .colab-df-convert:hover {\n",
              "      background-color: #434B5C;\n",
              "      box-shadow: 0px 1px 3px 1px rgba(0, 0, 0, 0.15);\n",
              "      filter: drop-shadow(0px 1px 2px rgba(0, 0, 0, 0.3));\n",
              "      fill: #FFFFFF;\n",
              "    }\n",
              "  </style>\n",
              "\n",
              "      <script>\n",
              "        const buttonEl =\n",
              "          document.querySelector('#df-aa22471b-2c0a-49b6-94f7-ccec473e7d98 button.colab-df-convert');\n",
              "        buttonEl.style.display =\n",
              "          google.colab.kernel.accessAllowed ? 'block' : 'none';\n",
              "\n",
              "        async function convertToInteractive(key) {\n",
              "          const element = document.querySelector('#df-aa22471b-2c0a-49b6-94f7-ccec473e7d98');\n",
              "          const dataTable =\n",
              "            await google.colab.kernel.invokeFunction('convertToInteractive',\n",
              "                                                     [key], {});\n",
              "          if (!dataTable) return;\n",
              "\n",
              "          const docLinkHtml = 'Like what you see? Visit the ' +\n",
              "            '<a target=\"_blank\" href=https://colab.research.google.com/notebooks/data_table.ipynb>data table notebook</a>'\n",
              "            + ' to learn more about interactive tables.';\n",
              "          element.innerHTML = '';\n",
              "          dataTable['output_type'] = 'display_data';\n",
              "          await google.colab.output.renderOutput(dataTable, element);\n",
              "          const docLink = document.createElement('div');\n",
              "          docLink.innerHTML = docLinkHtml;\n",
              "          element.appendChild(docLink);\n",
              "        }\n",
              "      </script>\n",
              "    </div>\n",
              "  </div>\n",
              "  "
            ]
          },
          "metadata": {},
          "execution_count": 34
        }
      ]
    },
    {
      "cell_type": "markdown",
      "source": [
        "#KNN Model (No PCA)"
      ],
      "metadata": {
        "id": "Z1rrDFakkvGv"
      }
    },
    {
      "cell_type": "code",
      "source": [
        "%%time\n",
        "# Create and fit the model\n",
        "\n",
        "knn_pipe = make_pipeline(scaler, KNeighborsClassifier())\n",
        "\n",
        "knn_pipe.fit(X_train_processed,y_train)"
      ],
      "metadata": {
        "colab": {
          "base_uri": "https://localhost:8080/"
        },
        "id": "OQEXR_9DXW5-",
        "outputId": "4ac2d24a-d330-4aa8-e655-997793fb1d2e"
      },
      "execution_count": 35,
      "outputs": [
        {
          "output_type": "stream",
          "name": "stdout",
          "text": [
            "CPU times: user 11 ms, sys: 0 ns, total: 11 ms\n",
            "Wall time: 14.8 ms\n"
          ]
        }
      ]
    },
    {
      "cell_type": "code",
      "source": [
        "%%time\n",
        "print('Training accuracy:', knn_pipe.score(X_train_processed, y_train))\n",
        "print('Testing accuracy:', knn_pipe.score(X_test_processed, y_test))"
      ],
      "metadata": {
        "colab": {
          "base_uri": "https://localhost:8080/"
        },
        "id": "EgSOGODvhK0U",
        "outputId": "903ea240-ee34-4f20-e5af-65d1b45fc1c8"
      },
      "execution_count": 36,
      "outputs": [
        {
          "output_type": "stream",
          "name": "stdout",
          "text": [
            "Training accuracy: 0.669344870210136\n",
            "Testing accuracy: 0.46201358863495984\n",
            "CPU times: user 1.11 s, sys: 312 ms, total: 1.42 s\n",
            "Wall time: 1.86 s\n"
          ]
        }
      ]
    },
    {
      "cell_type": "code",
      "source": [
        "%%time\n",
        "knn_no_pca = knn_pipe.predict(X_test_processed)"
      ],
      "metadata": {
        "colab": {
          "base_uri": "https://localhost:8080/"
        },
        "id": "zkHCm53jhKx0",
        "outputId": "5a4cdead-632b-40b5-d3dd-f784bf859e1c"
      },
      "execution_count": 37,
      "outputs": [
        {
          "output_type": "stream",
          "name": "stdout",
          "text": [
            "CPU times: user 291 ms, sys: 41.5 ms, total: 332 ms\n",
            "Wall time: 463 ms\n"
          ]
        }
      ]
    },
    {
      "cell_type": "code",
      "source": [
        "\n",
        "# Plot the confusion matrix\n",
        "ConfusionMatrixDisplay.from_predictions(y_test, knn_no_pca, normalize = 'true')"
      ],
      "metadata": {
        "colab": {
          "base_uri": "https://localhost:8080/",
          "height": 301
        },
        "id": "B8v166cWlF83",
        "outputId": "0a0c1169-89ec-40cb-810c-453f1206dfdb"
      },
      "execution_count": 38,
      "outputs": [
        {
          "output_type": "execute_result",
          "data": {
            "text/plain": [
              "<sklearn.metrics._plot.confusion_matrix.ConfusionMatrixDisplay at 0x7f9eee508ad0>"
            ]
          },
          "metadata": {},
          "execution_count": 38
        },
        {
          "output_type": "display_data",
          "data": {
            "text/plain": [
              "<Figure size 432x288 with 2 Axes>"
            ],
            "image/png": "[encoded data removed]"
          },
          "metadata": {
            "needs_background": "light"
          }
        }
      ]
    },
    {
      "cell_type": "code",
      "source": [
        "from sklearn.metrics import classification_report\n",
        "\n",
        "print(classification_report(y_test, knn_no_pca))"
      ],
      "metadata": {
        "colab": {
          "base_uri": "https://localhost:8080/"
        },
        "id": "n-foHRbxmGmS",
        "outputId": "5088c15c-8bf1-4c21-edbf-3cf338b192d3"
      },
      "execution_count": 39,
      "outputs": [
        {
          "output_type": "stream",
          "name": "stdout",
          "text": [
            "              precision    recall  f1-score   support\n",
            "\n",
            "           0       0.47      0.44      0.45       821\n",
            "           1       0.46      0.48      0.47       798\n",
            "\n",
            "    accuracy                           0.46      1619\n",
            "   macro avg       0.46      0.46      0.46      1619\n",
            "weighted avg       0.46      0.46      0.46      1619\n",
            "\n"
          ]
        }
      ]
    },
    {
      "cell_type": "markdown",
      "source": [
        "#Decision Tree Model (No PCA)"
      ],
      "metadata": {
        "id": "UjeNPsFGk1aC"
      }
    },
    {
      "cell_type": "code",
      "source": [
        "dec_tree = DecisionTreeClassifier(random_state = 42) #set same random state"
      ],
      "metadata": {
        "id": "Xi-O3n0ghG24"
      },
      "execution_count": 40,
      "outputs": []
    },
    {
      "cell_type": "code",
      "source": [
        "dec_tree.fit(X_train_processed, y_train) #fit model\n"
      ],
      "metadata": {
        "colab": {
          "base_uri": "https://localhost:8080/"
        },
        "id": "ePn9Wtq_hL2K",
        "outputId": "c5fc387c-7d71-4d63-ed97-3d5da41b2130"
      },
      "execution_count": 41,
      "outputs": [
        {
          "output_type": "execute_result",
          "data": {
            "text/plain": [
              "DecisionTreeClassifier(random_state=42)"
            ]
          },
          "metadata": {},
          "execution_count": 41
        }
      ]
    },
    {
      "cell_type": "code",
      "source": [
        "train_pred_tree = dec_tree.predict(X_train_processed)\n",
        "test_pred_tree = dec_tree.predict(X_test_processed)"
      ],
      "metadata": {
        "id": "8wsagQtahLzj"
      },
      "execution_count": 42,
      "outputs": []
    },
    {
      "cell_type": "code",
      "source": [
        "# evaluate the model\n",
        "train_score_tree = dec_tree.score(X_train_processed, y_train)\n",
        "test_score_tree = dec_tree.score(X_test_processed, y_test)\n",
        "print(train_score_tree)\n",
        "print(test_score_tree)"
      ],
      "metadata": {
        "colab": {
          "base_uri": "https://localhost:8080/"
        },
        "id": "AoAO0hHKhLwV",
        "outputId": "92f737e9-393b-4d51-a1be-413c2acd4a01"
      },
      "execution_count": 43,
      "outputs": [
        {
          "output_type": "stream",
          "name": "stdout",
          "text": [
            "0.7748248866913885\n",
            "0.3292155651636813\n"
          ]
        }
      ]
    },
    {
      "cell_type": "code",
      "source": [
        "dec_tree.get_depth() #get depth of model"
      ],
      "metadata": {
        "colab": {
          "base_uri": "https://localhost:8080/"
        },
        "id": "0v4A6K2YhLtn",
        "outputId": "ab13c242-ff71-46aa-c5d8-d8683861cd68"
      },
      "execution_count": 44,
      "outputs": [
        {
          "output_type": "execute_result",
          "data": {
            "text/plain": [
              "29"
            ]
          },
          "metadata": {},
          "execution_count": 44
        }
      ]
    },
    {
      "cell_type": "code",
      "source": [
        "d = list(range(1,29)) # will try every value between 2 and 29\n",
        "# Data frame to store the score for each value of max_depth:\n",
        "scores_tree = pd.DataFrame(index=d, columns=['Test Score','Train Score'])\n",
        "for depth in d:\n",
        "    dec_tree = DecisionTreeClassifier(max_depth=depth, random_state=42)\n",
        "    dec_tree.fit(X_train_processed, y_train)\n",
        "    train_score = dec_tree.score(X_test_processed, y_test)\n",
        "    test_score = dec_tree.score(X_test_processed, y_test)\n",
        "    scores_tree.loc[depth, 'Train Score'] = train_score\n",
        "    scores_tree.loc[depth, 'Test Score'] = test_score"
      ],
      "metadata": {
        "id": "P5I1WWE-hLrG"
      },
      "execution_count": 45,
      "outputs": []
    },
    {
      "cell_type": "code",
      "source": [
        "# Visualize which max_depth leads to the highest r2 score\n",
        "plt.plot(d, scores_tree['Test Score'])\n",
        "plt.xlabel('max_depth')\n",
        "plt.ylabel('R2');"
      ],
      "metadata": {
        "colab": {
          "base_uri": "https://localhost:8080/",
          "height": 280
        },
        "id": "DA9JvLy2ipxJ",
        "outputId": "28cfe34b-7d5e-4cbe-e4a6-364ce8721b8f"
      },
      "execution_count": 46,
      "outputs": [
        {
          "output_type": "display_data",
          "data": {
            "text/plain": [
              "<Figure size 432x288 with 1 Axes>"
            ],
            "image/png": "[encoded data removed]"
          },
          "metadata": {
            "needs_background": "light"
          }
        }
      ]
    },
    {
      "cell_type": "code",
      "source": [
        "depth_4 = DecisionTreeClassifier(max_depth = 4, random_state = 42) #optimized value for max_depth\n",
        "depth_4.fit(X_train_processed, y_train)\n",
        "train_4_score = depth_4.score(X_train_processed, y_train)\n",
        "test_4_score = depth_4.score(X_test_processed, y_test)\n",
        "print(train_4_score)\n",
        "print(test_4_score)"
      ],
      "metadata": {
        "colab": {
          "base_uri": "https://localhost:8080/"
        },
        "id": "HIBYy_4Kipuh",
        "outputId": "a3a872ae-ec90-44f0-c932-0d0dba3940bf"
      },
      "execution_count": 47,
      "outputs": [
        {
          "output_type": "stream",
          "name": "stdout",
          "text": [
            "0.5900288421920066\n",
            "0.5818406423718344\n"
          ]
        }
      ]
    },
    {
      "cell_type": "code",
      "source": [
        "%%time\n",
        "dtree_pred = depth_4.predict(X_test_processed)"
      ],
      "metadata": {
        "colab": {
          "base_uri": "https://localhost:8080/"
        },
        "outputId": "57471cf9-3bae-4ad4-c7d0-59b5dc3bd0e4",
        "id": "_FGLOzromiw8"
      },
      "execution_count": 48,
      "outputs": [
        {
          "output_type": "stream",
          "name": "stdout",
          "text": [
            "CPU times: user 3.13 ms, sys: 0 ns, total: 3.13 ms\n",
            "Wall time: 5.99 ms\n"
          ]
        }
      ]
    },
    {
      "cell_type": "code",
      "source": [
        "\n",
        "# Plot the confusion matrix\n",
        "ConfusionMatrixDisplay.from_predictions(y_test, dtree_pred, normalize = 'true')"
      ],
      "metadata": {
        "colab": {
          "base_uri": "https://localhost:8080/",
          "height": 297
        },
        "outputId": "5e58c301-69bc-403a-90f3-95d050dbd4ac",
        "id": "CEZARPaLmiw8"
      },
      "execution_count": 49,
      "outputs": [
        {
          "output_type": "execute_result",
          "data": {
            "text/plain": [
              "<sklearn.metrics._plot.confusion_matrix.ConfusionMatrixDisplay at 0x7f9eee454950>"
            ]
          },
          "metadata": {},
          "execution_count": 49
        },
        {
          "output_type": "display_data",
          "data": {
            "text/plain": [
              "<Figure size 432x288 with 2 Axes>"
            ],
            "image/png": "[encoded data removed]"
          },
          "metadata": {
            "needs_background": "light"
          }
        }
      ]
    },
    {
      "cell_type": "code",
      "source": [
        "print(classification_report(y_test, dtree_pred))"
      ],
      "metadata": {
        "colab": {
          "base_uri": "https://localhost:8080/"
        },
        "outputId": "277aacd0-4fe8-4533-d2de-13178af5ba6c",
        "id": "RWXFQoQDmiw9"
      },
      "execution_count": 50,
      "outputs": [
        {
          "output_type": "stream",
          "name": "stdout",
          "text": [
            "              precision    recall  f1-score   support\n",
            "\n",
            "           0       0.59      0.59      0.59       821\n",
            "           1       0.58      0.57      0.58       798\n",
            "\n",
            "    accuracy                           0.58      1619\n",
            "   macro avg       0.58      0.58      0.58      1619\n",
            "weighted avg       0.58      0.58      0.58      1619\n",
            "\n"
          ]
        }
      ]
    },
    {
      "cell_type": "markdown",
      "source": [
        "#Bagged Tree Model (No PCA)"
      ],
      "metadata": {
        "id": "WL8X_kZDk5FI"
      }
    },
    {
      "cell_type": "code",
      "source": [
        "bagreg = BaggingClassifier(random_state = 42) #instantiate bagged tree model"
      ],
      "metadata": {
        "id": "EG98fwcWhJhB"
      },
      "execution_count": 51,
      "outputs": []
    },
    {
      "cell_type": "code",
      "source": [
        "bagreg.fit(X_train_processed, y_train)\n"
      ],
      "metadata": {
        "colab": {
          "base_uri": "https://localhost:8080/"
        },
        "id": "-WYlBrEvhMw9",
        "outputId": "c30c8396-b8e0-46a6-c623-c4232256a194"
      },
      "execution_count": 52,
      "outputs": [
        {
          "output_type": "execute_result",
          "data": {
            "text/plain": [
              "BaggingClassifier(random_state=42)"
            ]
          },
          "metadata": {},
          "execution_count": 52
        }
      ]
    },
    {
      "cell_type": "code",
      "source": [
        "bagreg.get_params()"
      ],
      "metadata": {
        "colab": {
          "base_uri": "https://localhost:8080/"
        },
        "id": "7RHxq4DfspaW",
        "outputId": "da495b19-5dbf-4ef6-f5e7-5c0f7e86e60c"
      },
      "execution_count": 53,
      "outputs": [
        {
          "output_type": "execute_result",
          "data": {
            "text/plain": [
              "{'base_estimator': None,\n",
              " 'bootstrap': True,\n",
              " 'bootstrap_features': False,\n",
              " 'max_features': 1.0,\n",
              " 'max_samples': 1.0,\n",
              " 'n_estimators': 10,\n",
              " 'n_jobs': None,\n",
              " 'oob_score': False,\n",
              " 'random_state': 42,\n",
              " 'verbose': 0,\n",
              " 'warm_start': False}"
            ]
          },
          "metadata": {},
          "execution_count": 53
        }
      ]
    },
    {
      "cell_type": "code",
      "source": [
        "bagreg_train_score = bagreg.score(X_train_processed, y_train) #determine untuned accuracy\n",
        "bagreg_test_score = bagreg.score(X_test_processed, y_test)\n",
        "print(bagreg_train_score)\n",
        "print(bagreg_test_score)"
      ],
      "metadata": {
        "colab": {
          "base_uri": "https://localhost:8080/"
        },
        "id": "Ti-GEhLChMti",
        "outputId": "bc3b73e9-cd9d-471a-ec65-1c50ebb3aac9"
      },
      "execution_count": 54,
      "outputs": [
        {
          "output_type": "stream",
          "name": "stdout",
          "text": [
            "0.7678203543469304\n",
            "0.35453983940704137\n"
          ]
        }
      ]
    },
    {
      "cell_type": "code",
      "source": [
        "param_grid = {'n_estimators': range(1,10),\n",
        "              'verbose': range(0,1)}\n",
        "dt_grid_search = GridSearchCV(bagreg, param_grid) #use GridSearchCV to tune hyperparams\n"
      ],
      "metadata": {
        "id": "Hborc-xtrbyI"
      },
      "execution_count": 55,
      "outputs": []
    },
    {
      "cell_type": "code",
      "source": [
        "dt_grid_search.fit(X_train_processed, y_train)\n"
      ],
      "metadata": {
        "colab": {
          "base_uri": "https://localhost:8080/"
        },
        "id": "vpaMwRzEr19m",
        "outputId": "78d9372f-df2a-42a0-adbb-1b0f42c5e982"
      },
      "execution_count": 56,
      "outputs": [
        {
          "output_type": "execute_result",
          "data": {
            "text/plain": [
              "GridSearchCV(estimator=BaggingClassifier(random_state=42),\n",
              "             param_grid={'n_estimators': range(1, 10), 'verbose': range(0, 1)})"
            ]
          },
          "metadata": {},
          "execution_count": 56
        }
      ]
    },
    {
      "cell_type": "code",
      "source": [
        "dt_grid_search.best_params_"
      ],
      "metadata": {
        "colab": {
          "base_uri": "https://localhost:8080/"
        },
        "id": "MqhKpYuOr17b",
        "outputId": "a4d6e436-f210-4f45-84f5-d581e4a576b8"
      },
      "execution_count": 57,
      "outputs": [
        {
          "output_type": "execute_result",
          "data": {
            "text/plain": [
              "{'n_estimators': 1, 'verbose': 0}"
            ]
          },
          "metadata": {},
          "execution_count": 57
        }
      ]
    },
    {
      "cell_type": "code",
      "source": [
        "#retrieve the best version of the model\n",
        "best_model = dt_grid_search.best_estimator_\n",
        " \n",
        "#refit the model on the whole training set\n",
        "best_model.fit(X_train_processed, y_train)\n",
        "#score the model on the test set\n",
        "best_model.score(X_test_processed, y_test)"
      ],
      "metadata": {
        "colab": {
          "base_uri": "https://localhost:8080/"
        },
        "id": "ezKcKxkQr15J",
        "outputId": "a383f693-e586-42dd-8696-0576bf09ade9"
      },
      "execution_count": 58,
      "outputs": [
        {
          "output_type": "execute_result",
          "data": {
            "text/plain": [
              "0.410129709697344"
            ]
          },
          "metadata": {},
          "execution_count": 58
        }
      ]
    },
    {
      "cell_type": "code",
      "source": [
        "bagpred = best_model.predict(X_test_processed)"
      ],
      "metadata": {
        "id": "T_7krFmphMr2"
      },
      "execution_count": 59,
      "outputs": []
    },
    {
      "cell_type": "code",
      "source": [
        "# Plot the confusion matrix\n",
        "ConfusionMatrixDisplay.from_predictions(y_test, bagpred, normalize = 'true')"
      ],
      "metadata": {
        "colab": {
          "base_uri": "https://localhost:8080/",
          "height": 297
        },
        "id": "dcpUkM8bhMqU",
        "outputId": "9c1bc276-01a5-4df0-9b9d-24b85d16c507"
      },
      "execution_count": 60,
      "outputs": [
        {
          "output_type": "execute_result",
          "data": {
            "text/plain": [
              "<sklearn.metrics._plot.confusion_matrix.ConfusionMatrixDisplay at 0x7f9eee34ac10>"
            ]
          },
          "metadata": {},
          "execution_count": 60
        },
        {
          "output_type": "display_data",
          "data": {
            "text/plain": [
              "<Figure size 432x288 with 2 Axes>"
            ],
            "image/png": "[encoded data removed]"
          },
          "metadata": {
            "needs_background": "light"
          }
        }
      ]
    },
    {
      "cell_type": "code",
      "source": [
        "print(classification_report(y_test, bagpred))"
      ],
      "metadata": {
        "colab": {
          "base_uri": "https://localhost:8080/"
        },
        "id": "mNh0Pst72K6u",
        "outputId": "9dfe6fd9-c0fd-4c4d-d8f3-35ce56c125be"
      },
      "execution_count": 61,
      "outputs": [
        {
          "output_type": "stream",
          "name": "stdout",
          "text": [
            "              precision    recall  f1-score   support\n",
            "\n",
            "           0       0.42      0.41      0.42       821\n",
            "           1       0.40      0.41      0.40       798\n",
            "\n",
            "    accuracy                           0.41      1619\n",
            "   macro avg       0.41      0.41      0.41      1619\n",
            "weighted avg       0.41      0.41      0.41      1619\n",
            "\n"
          ]
        }
      ]
    },
    {
      "cell_type": "markdown",
      "source": [
        "This model is very badly predicting on the test data. The high proportions of false negatives and positives are not helpful in accurate delay predictions."
      ],
      "metadata": {
        "id": "N5C9K7nikIP6"
      }
    },
    {
      "cell_type": "markdown",
      "source": [
        "#**The best performing model on this data was the Decision Tree, and now we can use PCA to try to improve this model's performance and speed.**\n",
        "\n",
        "The Decision Tree model was the only one of the three tested that returned > .5 testing accuracy score, with the bagged tree performing especially poorly. The speed of the Decision Tree model may also be beneficial if a larger test set is used in the future.\n",
        "\n",
        "#Decision Tree (With PCA)"
      ],
      "metadata": {
        "id": "_O3lJmFpk-K7"
      }
    },
    {
      "cell_type": "code",
      "source": [
        "# Instantiate, fit & transform data using PCA\n",
        "pca = PCA(n_components = 0.95)\n",
        "pca.fit_transform(X_train_processed).shape"
      ],
      "metadata": {
        "colab": {
          "base_uri": "https://localhost:8080/"
        },
        "id": "6Kq2udV6kHqf",
        "outputId": "95112abb-da05-47be-d0f7-b41b5c876473"
      },
      "execution_count": 62,
      "outputs": [
        {
          "output_type": "execute_result",
          "data": {
            "text/plain": [
              "(4854, 2)"
            ]
          },
          "metadata": {},
          "execution_count": 62
        }
      ]
    },
    {
      "cell_type": "code",
      "source": [
        "%%time\n",
        "# Create and fit the PCA model\n",
        "dtree_pca_pipe = make_pipeline(scaler, pca, depth_4 )\n",
        "dtree_pca_pipe.fit(X_train_processed, y_train)"
      ],
      "metadata": {
        "colab": {
          "base_uri": "https://localhost:8080/"
        },
        "id": "_C7eQsT6hMlv",
        "outputId": "ad105c4e-dfc1-4ea0-ac71-aa7af99f86e1"
      },
      "execution_count": 63,
      "outputs": [
        {
          "output_type": "stream",
          "name": "stdout",
          "text": [
            "CPU times: user 61.2 ms, sys: 29.5 ms, total: 90.7 ms\n",
            "Wall time: 105 ms\n"
          ]
        }
      ]
    },
    {
      "cell_type": "code",
      "source": [
        "%%time\n",
        "print('Training accuracy:', dtree_pca_pipe.score(X_train_processed, y_train))\n",
        "print('Testing accuracy:', dtree_pca_pipe.score(X_test_processed, y_test))"
      ],
      "metadata": {
        "colab": {
          "base_uri": "https://localhost:8080/"
        },
        "id": "yW6678I5hMij",
        "outputId": "adae6b2e-a41f-4bf3-daa4-3177320feb4e"
      },
      "execution_count": 64,
      "outputs": [
        {
          "output_type": "stream",
          "name": "stdout",
          "text": [
            "Training accuracy: 0.5943551709929955\n",
            "Testing accuracy: 0.5503397158739963\n",
            "CPU times: user 21.7 ms, sys: 14.3 ms, total: 35.9 ms\n",
            "Wall time: 93.1 ms\n"
          ]
        }
      ]
    },
    {
      "cell_type": "markdown",
      "source": [
        "In this case, the introduction of PCA into the Decision Tree pipeline improved neither accuracy on the test set nor did it accelerate the time it took for the model to run. However, of the models tested, the tuned Decision Tree seemed to be the best model in accounting for the greatest amount of variability in the dataset chosen. \n",
        "\n",
        "\n",
        "However, with the ultimate goal of this effort being the ability to predict the delay outcome of a specific flight, given the provided features, I cannot say with confidence that this data was the best starting point to develop a truly effective predictive classifier model. The lack of diversity in the values for certain provided features (limited airports, airlines), and missing potential confounding factors (seasonality, time of day, etc.) plays a part in this being a hard dataset to accurately pull conclusions from.\n"
      ],
      "metadata": {
        "id": "Yt8N4FOLnfPV"
      }
    },
    {
      "cell_type": "code",
      "source": [
        ""
      ],
      "metadata": {
        "id": "A9YHCAlHhMbW"
      },
      "execution_count": 64,
      "outputs": []
    }
  ]
}